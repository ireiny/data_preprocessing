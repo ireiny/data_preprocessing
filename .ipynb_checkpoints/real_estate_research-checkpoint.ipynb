{
 "cells": [
  {
   "cell_type": "markdown",
   "metadata": {},
   "source": [
    "## Exploring data from a file"
   ]
  },
  {
   "cell_type": "code",
   "execution_count": 1,
   "metadata": {},
   "outputs": [
    {
     "data": {
      "text/html": [
       "<div>\n",
       "<style scoped>\n",
       "    .dataframe tbody tr th:only-of-type {\n",
       "        vertical-align: middle;\n",
       "    }\n",
       "\n",
       "    .dataframe tbody tr th {\n",
       "        vertical-align: top;\n",
       "    }\n",
       "\n",
       "    .dataframe thead th {\n",
       "        text-align: right;\n",
       "    }\n",
       "</style>\n",
       "<table border=\"1\" class=\"dataframe\">\n",
       "  <thead>\n",
       "    <tr style=\"text-align: right;\">\n",
       "      <th></th>\n",
       "      <th>total_images</th>\n",
       "      <th>last_price</th>\n",
       "      <th>total_area</th>\n",
       "      <th>first_day_exposition</th>\n",
       "      <th>rooms</th>\n",
       "      <th>ceiling_height</th>\n",
       "      <th>floors_total</th>\n",
       "      <th>living_area</th>\n",
       "      <th>floor</th>\n",
       "      <th>is_apartment</th>\n",
       "      <th>...</th>\n",
       "      <th>kitchen_area</th>\n",
       "      <th>balcony</th>\n",
       "      <th>locality_name</th>\n",
       "      <th>airports_nearest</th>\n",
       "      <th>cityCenters_nearest</th>\n",
       "      <th>parks_around3000</th>\n",
       "      <th>parks_nearest</th>\n",
       "      <th>ponds_around3000</th>\n",
       "      <th>ponds_nearest</th>\n",
       "      <th>days_exposition</th>\n",
       "    </tr>\n",
       "  </thead>\n",
       "  <tbody>\n",
       "    <tr>\n",
       "      <th>0</th>\n",
       "      <td>20</td>\n",
       "      <td>13000000.0</td>\n",
       "      <td>108.0</td>\n",
       "      <td>2019-03-07T00:00:00</td>\n",
       "      <td>3</td>\n",
       "      <td>2.70</td>\n",
       "      <td>16.0</td>\n",
       "      <td>51.0</td>\n",
       "      <td>8</td>\n",
       "      <td>NaN</td>\n",
       "      <td>...</td>\n",
       "      <td>25.0</td>\n",
       "      <td>NaN</td>\n",
       "      <td>Санкт-Петербург</td>\n",
       "      <td>18863.0</td>\n",
       "      <td>16028.0</td>\n",
       "      <td>1.0</td>\n",
       "      <td>482.0</td>\n",
       "      <td>2.0</td>\n",
       "      <td>755.0</td>\n",
       "      <td>NaN</td>\n",
       "    </tr>\n",
       "    <tr>\n",
       "      <th>1</th>\n",
       "      <td>7</td>\n",
       "      <td>3350000.0</td>\n",
       "      <td>40.4</td>\n",
       "      <td>2018-12-04T00:00:00</td>\n",
       "      <td>1</td>\n",
       "      <td>NaN</td>\n",
       "      <td>11.0</td>\n",
       "      <td>18.6</td>\n",
       "      <td>1</td>\n",
       "      <td>NaN</td>\n",
       "      <td>...</td>\n",
       "      <td>11.0</td>\n",
       "      <td>2.0</td>\n",
       "      <td>посёлок Шушары</td>\n",
       "      <td>12817.0</td>\n",
       "      <td>18603.0</td>\n",
       "      <td>0.0</td>\n",
       "      <td>NaN</td>\n",
       "      <td>0.0</td>\n",
       "      <td>NaN</td>\n",
       "      <td>81.0</td>\n",
       "    </tr>\n",
       "    <tr>\n",
       "      <th>2</th>\n",
       "      <td>10</td>\n",
       "      <td>5196000.0</td>\n",
       "      <td>56.0</td>\n",
       "      <td>2015-08-20T00:00:00</td>\n",
       "      <td>2</td>\n",
       "      <td>NaN</td>\n",
       "      <td>5.0</td>\n",
       "      <td>34.3</td>\n",
       "      <td>4</td>\n",
       "      <td>NaN</td>\n",
       "      <td>...</td>\n",
       "      <td>8.3</td>\n",
       "      <td>0.0</td>\n",
       "      <td>Санкт-Петербург</td>\n",
       "      <td>21741.0</td>\n",
       "      <td>13933.0</td>\n",
       "      <td>1.0</td>\n",
       "      <td>90.0</td>\n",
       "      <td>2.0</td>\n",
       "      <td>574.0</td>\n",
       "      <td>558.0</td>\n",
       "    </tr>\n",
       "    <tr>\n",
       "      <th>3</th>\n",
       "      <td>0</td>\n",
       "      <td>64900000.0</td>\n",
       "      <td>159.0</td>\n",
       "      <td>2015-07-24T00:00:00</td>\n",
       "      <td>3</td>\n",
       "      <td>NaN</td>\n",
       "      <td>14.0</td>\n",
       "      <td>NaN</td>\n",
       "      <td>9</td>\n",
       "      <td>NaN</td>\n",
       "      <td>...</td>\n",
       "      <td>NaN</td>\n",
       "      <td>0.0</td>\n",
       "      <td>Санкт-Петербург</td>\n",
       "      <td>28098.0</td>\n",
       "      <td>6800.0</td>\n",
       "      <td>2.0</td>\n",
       "      <td>84.0</td>\n",
       "      <td>3.0</td>\n",
       "      <td>234.0</td>\n",
       "      <td>424.0</td>\n",
       "    </tr>\n",
       "    <tr>\n",
       "      <th>4</th>\n",
       "      <td>2</td>\n",
       "      <td>10000000.0</td>\n",
       "      <td>100.0</td>\n",
       "      <td>2018-06-19T00:00:00</td>\n",
       "      <td>2</td>\n",
       "      <td>3.03</td>\n",
       "      <td>14.0</td>\n",
       "      <td>32.0</td>\n",
       "      <td>13</td>\n",
       "      <td>NaN</td>\n",
       "      <td>...</td>\n",
       "      <td>41.0</td>\n",
       "      <td>NaN</td>\n",
       "      <td>Санкт-Петербург</td>\n",
       "      <td>31856.0</td>\n",
       "      <td>8098.0</td>\n",
       "      <td>2.0</td>\n",
       "      <td>112.0</td>\n",
       "      <td>1.0</td>\n",
       "      <td>48.0</td>\n",
       "      <td>121.0</td>\n",
       "    </tr>\n",
       "  </tbody>\n",
       "</table>\n",
       "<p>5 rows × 22 columns</p>\n",
       "</div>"
      ],
      "text/plain": [
       "   total_images  last_price  total_area first_day_exposition  rooms  \\\n",
       "0            20  13000000.0       108.0  2019-03-07T00:00:00      3   \n",
       "1             7   3350000.0        40.4  2018-12-04T00:00:00      1   \n",
       "2            10   5196000.0        56.0  2015-08-20T00:00:00      2   \n",
       "3             0  64900000.0       159.0  2015-07-24T00:00:00      3   \n",
       "4             2  10000000.0       100.0  2018-06-19T00:00:00      2   \n",
       "\n",
       "   ceiling_height  floors_total  living_area  floor is_apartment  ...  \\\n",
       "0            2.70          16.0         51.0      8          NaN  ...   \n",
       "1             NaN          11.0         18.6      1          NaN  ...   \n",
       "2             NaN           5.0         34.3      4          NaN  ...   \n",
       "3             NaN          14.0          NaN      9          NaN  ...   \n",
       "4            3.03          14.0         32.0     13          NaN  ...   \n",
       "\n",
       "   kitchen_area  balcony    locality_name  airports_nearest  \\\n",
       "0          25.0      NaN  Санкт-Петербург           18863.0   \n",
       "1          11.0      2.0   посёлок Шушары           12817.0   \n",
       "2           8.3      0.0  Санкт-Петербург           21741.0   \n",
       "3           NaN      0.0  Санкт-Петербург           28098.0   \n",
       "4          41.0      NaN  Санкт-Петербург           31856.0   \n",
       "\n",
       "  cityCenters_nearest  parks_around3000  parks_nearest  ponds_around3000  \\\n",
       "0             16028.0               1.0          482.0               2.0   \n",
       "1             18603.0               0.0            NaN               0.0   \n",
       "2             13933.0               1.0           90.0               2.0   \n",
       "3              6800.0               2.0           84.0               3.0   \n",
       "4              8098.0               2.0          112.0               1.0   \n",
       "\n",
       "   ponds_nearest  days_exposition  \n",
       "0          755.0              NaN  \n",
       "1            NaN             81.0  \n",
       "2          574.0            558.0  \n",
       "3          234.0            424.0  \n",
       "4           48.0            121.0  \n",
       "\n",
       "[5 rows x 22 columns]"
      ]
     },
     "execution_count": 1,
     "metadata": {},
     "output_type": "execute_result"
    }
   ],
   "source": [
    "import pandas as pd\n",
    "import matplotlib.pyplot as plt\n",
    "\n",
    "try:\n",
    "    data = pd.read_csv('~/Documents/programming/3_research_analysis/real_estate_data.csv', sep = '\\t')  #local path\n",
    "except:\n",
    "    data = pd.read_csv('/real_estate_data.csv', sep = '\\t')  # server path\n",
    "\n",
    "data.head()"
   ]
  },
  {
   "cell_type": "code",
   "execution_count": 2,
   "metadata": {},
   "outputs": [
    {
     "name": "stdout",
     "output_type": "stream",
     "text": [
      "<class 'pandas.core.frame.DataFrame'>\n",
      "RangeIndex: 23699 entries, 0 to 23698\n",
      "Data columns (total 22 columns):\n",
      " #   Column                Non-Null Count  Dtype  \n",
      "---  ------                --------------  -----  \n",
      " 0   total_images          23699 non-null  int64  \n",
      " 1   last_price            23699 non-null  float64\n",
      " 2   total_area            23699 non-null  float64\n",
      " 3   first_day_exposition  23699 non-null  object \n",
      " 4   rooms                 23699 non-null  int64  \n",
      " 5   ceiling_height        14504 non-null  float64\n",
      " 6   floors_total          23613 non-null  float64\n",
      " 7   living_area           21796 non-null  float64\n",
      " 8   floor                 23699 non-null  int64  \n",
      " 9   is_apartment          2775 non-null   object \n",
      " 10  studio                23699 non-null  bool   \n",
      " 11  open_plan             23699 non-null  bool   \n",
      " 12  kitchen_area          21421 non-null  float64\n",
      " 13  balcony               12180 non-null  float64\n",
      " 14  locality_name         23650 non-null  object \n",
      " 15  airports_nearest      18157 non-null  float64\n",
      " 16  cityCenters_nearest   18180 non-null  float64\n",
      " 17  parks_around3000      18181 non-null  float64\n",
      " 18  parks_nearest         8079 non-null   float64\n",
      " 19  ponds_around3000      18181 non-null  float64\n",
      " 20  ponds_nearest         9110 non-null   float64\n",
      " 21  days_exposition       20518 non-null  float64\n",
      "dtypes: bool(2), float64(14), int64(3), object(3)\n",
      "memory usage: 3.7+ MB\n"
     ]
    }
   ],
   "source": [
    "data.info()"
   ]
  },
  {
   "cell_type": "markdown",
   "metadata": {},
   "source": [
    "## Data preprocessing"
   ]
  },
  {
   "cell_type": "markdown",
   "metadata": {},
   "source": [
    "There are 23699 lines in total, there are quite a lot of missing values in some columns, for example:\n",
    "- **ceiling_height** about half of the values are omitted and having studied the spread of data for this parameter, it is clear that there are problems with some lines, it is impossible to imagine an apartment with ceilings of 100 meters or vice versa with ceilings of 1 meter. According to the norms, the height of the ceilings should not be lower than 2.4 meters, and in pre-revolutionary houses, in the “Stalinka” buildings, the height of the ceilings was 3.2–5 m, that is, all values below 2.4 and above 5 meters are most likely erroneously entered data. Change empty and abnormal values in the ceiling_height column to the column average\n",
    "- **floors_total** missing 83 values, a small percentage of the total sample size, replace with the floor value\n",
    "- **living_area** missing 1903 values will be changed to the average value depending on the total area.\n",
    "- **is_apartment** is a practically empty column indicating whether the object is an apartment, it can be assumed that the missing values are False, since the apartment housing format is not very common and it is highly likely that this is a residential apartment.\n",
    "- **kitchen_area** omitted 2278, where the real estate type is studio or open_plan we will replace kitchen_area with 0, since there is no separate kitchen in the studio and in the apartment with a free layout, and all remaining NaN values will be replaced by the total area of the apartment multiplied by the average coefficient showing the average share of the kitchen area from the total.\n",
    "- **balcony** indicates the number of balconies, it makes sense to replace missing values with 0\n",
    "- **locality_name** is missing 49 values, which are almost impossible to restore, it's easier to get rid of these values, they won't affect our research.\n",
    "- in the columns **parks_around3000, parks_nearest, ponds_around3000, ponds_nearest**, but these are not very important indicators for our analysis, so for now we will leave them in this form."
   ]
  },
  {
   "cell_type": "code",
   "execution_count": 3,
   "metadata": {},
   "outputs": [],
   "source": [
    "#Change empty and abnormal values in the ceiling_height column to the column average\n",
    "data.loc[(data['ceiling_height'].isna()) | (data['ceiling_height'] < 2.4) | (data['ceiling_height'] > 5), 'ceiling_height'] = data['ceiling_height'].mean()\n",
    "\n",
    "#Change the empty values in the floors_total column to the column average\n",
    "data.loc[data['floors_total'].isna(), 'floors_total'] = data['floors_total'].mean()\n",
    "\n",
    "# change empty values in balcony column to 0\n",
    "data['balcony'] = data['balcony'].fillna(0)\n",
    "\n",
    "# change empty values in is_apartment column to False\n",
    "data['is_apartment'] = data['is_apartment'].fillna(False)\n",
    "\n",
    "# change the empty values in the kitchen_area column to 0 if it's a studio or open_plan\n",
    "data.loc[(data['open_plan'] == True) & (data['kitchen_area'].isna()), 'kitchen_area'] = 0  \n",
    "data.loc[(data['studio'] == True) & (data['kitchen_area'].isna()), 'kitchen_area'] = 0 \n",
    "\n",
    "#calculate the average ratio of the kitchen area to the total\n",
    "k_kitchen = (data['kitchen_area']/data['total_area']).mean()  \n",
    "data.loc[data['kitchen_area'].isna(), 'kitchen_area'] = data['total_area']*k_kitchen \n",
    "#calculate the average ratio of living area to total\n",
    "k_living_area = (data['living_area']/data['total_area']).mean()\n",
    "data.loc[data['living_area'].isna(), 'living_area'] = data['total_area']*k_living_area\n",
    "\n",
    "# drop columns with NaN value in column locality_name\n",
    "data = data.dropna(subset=['locality_name'])\n",
    "\n",
    "# replace NaN values in this column with 0\n",
    "data.loc[data['days_exposition'].isna(), 'days_exposition'] = 0 "
   ]
  },
  {
   "cell_type": "markdown",
   "metadata": {},
   "source": [
    "Let's check how the number of values in the columns has changed and also check for duplicates"
   ]
  },
  {
   "cell_type": "code",
   "execution_count": 4,
   "metadata": {},
   "outputs": [
    {
     "name": "stdout",
     "output_type": "stream",
     "text": [
      "<class 'pandas.core.frame.DataFrame'>\n",
      "Int64Index: 23650 entries, 0 to 23698\n",
      "Data columns (total 22 columns):\n",
      " #   Column                Non-Null Count  Dtype  \n",
      "---  ------                --------------  -----  \n",
      " 0   total_images          23650 non-null  int64  \n",
      " 1   last_price            23650 non-null  float64\n",
      " 2   total_area            23650 non-null  float64\n",
      " 3   first_day_exposition  23650 non-null  object \n",
      " 4   rooms                 23650 non-null  int64  \n",
      " 5   ceiling_height        23650 non-null  float64\n",
      " 6   floors_total          23650 non-null  float64\n",
      " 7   living_area           23650 non-null  float64\n",
      " 8   floor                 23650 non-null  int64  \n",
      " 9   is_apartment          23650 non-null  bool   \n",
      " 10  studio                23650 non-null  bool   \n",
      " 11  open_plan             23650 non-null  bool   \n",
      " 12  kitchen_area          23650 non-null  float64\n",
      " 13  balcony               23650 non-null  float64\n",
      " 14  locality_name         23650 non-null  object \n",
      " 15  airports_nearest      18116 non-null  float64\n",
      " 16  cityCenters_nearest   18139 non-null  float64\n",
      " 17  parks_around3000      18140 non-null  float64\n",
      " 18  parks_nearest         8064 non-null   float64\n",
      " 19  ponds_around3000      18140 non-null  float64\n",
      " 20  ponds_nearest         9085 non-null   float64\n",
      " 21  days_exposition       23650 non-null  float64\n",
      "dtypes: bool(3), float64(14), int64(3), object(2)\n",
      "memory usage: 3.7+ MB\n"
     ]
    },
    {
     "data": {
      "text/plain": [
       "0"
      ]
     },
     "execution_count": 4,
     "metadata": {},
     "output_type": "execute_result"
    }
   ],
   "source": [
    "data.info()\n",
    "data.duplicated().sum()"
   ]
  },
  {
   "cell_type": "markdown",
   "metadata": {},
   "source": [
    "There are no duplicates, the main values for analysis are now available\n",
    "\n",
    "The table has 22 columns. The following data type issues have been found:\n",
    "- **last_price** of type float64, cost of apartments usually are in int64 type.\n",
    "- **first_day_exposition** of the object type, we will convert to the date type in order to make it possible to work with this data\n",
    "- **floors_total** of type float64, this is the height of the building in which the apartment is, will convert into int64\n",
    "- **is_apartment** of object type, while it contains boolean values, we will convert it to bool type\n",
    "- **balcony** of type float64, but this is the number of balconies, which cannot be fractional, we will convert into int64\n",
    "- **parks_around3000 and ponds_around3000** are the number of parks and ponds in the environment, should be int64\n",
    "- **days_exposition** reflects the number of days before the sale, must be an integer, will convert to int64\n",
    "\n",
    "Let's change data types where necessary"
   ]
  },
  {
   "cell_type": "code",
   "execution_count": 5,
   "metadata": {},
   "outputs": [],
   "source": [
    "data['last_price'] = data['last_price'].astype('int')\n",
    "data['floors_total'] = data['floors_total'].astype('int')\n",
    "data['is_apartment'] = data['is_apartment'].astype('bool')\n",
    "data['balcony'] = data['balcony'].astype('int')\n",
    "data['days_exposition'] = data['days_exposition'].astype('int')\n",
    "\n",
    "#Round ceiling_height, living_area and kitchen_area values to one decimal place for simplicity\n",
    "data['ceiling_height'] = data['ceiling_height'].round(decimals=1)\n",
    "data['living_area'] = data['living_area'].round(decimals=1)\n",
    "data['kitchen_area'] = data['kitchen_area'].round(decimals=1)\n",
    "\n",
    "#Let's convert the date column type\n",
    "data['first_day_exposition'] = pd.to_datetime(data['first_day_exposition'], format='%Y-%m-%dT%H:%M:%S')"
   ]
  },
  {
   "cell_type": "code",
   "execution_count": 6,
   "metadata": {},
   "outputs": [
    {
     "name": "stdout",
     "output_type": "stream",
     "text": [
      "<class 'pandas.core.frame.DataFrame'>\n",
      "Int64Index: 23650 entries, 0 to 23698\n",
      "Data columns (total 22 columns):\n",
      " #   Column                Non-Null Count  Dtype         \n",
      "---  ------                --------------  -----         \n",
      " 0   total_images          23650 non-null  int64         \n",
      " 1   last_price            23650 non-null  int64         \n",
      " 2   total_area            23650 non-null  float64       \n",
      " 3   first_day_exposition  23650 non-null  datetime64[ns]\n",
      " 4   rooms                 23650 non-null  int64         \n",
      " 5   ceiling_height        23650 non-null  float64       \n",
      " 6   floors_total          23650 non-null  int64         \n",
      " 7   living_area           23650 non-null  float64       \n",
      " 8   floor                 23650 non-null  int64         \n",
      " 9   is_apartment          23650 non-null  bool          \n",
      " 10  studio                23650 non-null  bool          \n",
      " 11  open_plan             23650 non-null  bool          \n",
      " 12  kitchen_area          23650 non-null  float64       \n",
      " 13  balcony               23650 non-null  int64         \n",
      " 14  locality_name         23650 non-null  object        \n",
      " 15  airports_nearest      18116 non-null  float64       \n",
      " 16  cityCenters_nearest   18139 non-null  float64       \n",
      " 17  parks_around3000      18140 non-null  float64       \n",
      " 18  parks_nearest         8064 non-null   float64       \n",
      " 19  ponds_around3000      18140 non-null  float64       \n",
      " 20  ponds_nearest         9085 non-null   float64       \n",
      " 21  days_exposition       23650 non-null  int64         \n",
      "dtypes: bool(3), datetime64[ns](1), float64(10), int64(7), object(1)\n",
      "memory usage: 3.7+ MB\n"
     ]
    },
    {
     "data": {
      "text/html": [
       "<div>\n",
       "<style scoped>\n",
       "    .dataframe tbody tr th:only-of-type {\n",
       "        vertical-align: middle;\n",
       "    }\n",
       "\n",
       "    .dataframe tbody tr th {\n",
       "        vertical-align: top;\n",
       "    }\n",
       "\n",
       "    .dataframe thead th {\n",
       "        text-align: right;\n",
       "    }\n",
       "</style>\n",
       "<table border=\"1\" class=\"dataframe\">\n",
       "  <thead>\n",
       "    <tr style=\"text-align: right;\">\n",
       "      <th></th>\n",
       "      <th>total_images</th>\n",
       "      <th>last_price</th>\n",
       "      <th>total_area</th>\n",
       "      <th>first_day_exposition</th>\n",
       "      <th>rooms</th>\n",
       "      <th>ceiling_height</th>\n",
       "      <th>floors_total</th>\n",
       "      <th>living_area</th>\n",
       "      <th>floor</th>\n",
       "      <th>is_apartment</th>\n",
       "      <th>...</th>\n",
       "      <th>kitchen_area</th>\n",
       "      <th>balcony</th>\n",
       "      <th>locality_name</th>\n",
       "      <th>airports_nearest</th>\n",
       "      <th>cityCenters_nearest</th>\n",
       "      <th>parks_around3000</th>\n",
       "      <th>parks_nearest</th>\n",
       "      <th>ponds_around3000</th>\n",
       "      <th>ponds_nearest</th>\n",
       "      <th>days_exposition</th>\n",
       "    </tr>\n",
       "  </thead>\n",
       "  <tbody>\n",
       "    <tr>\n",
       "      <th>0</th>\n",
       "      <td>20</td>\n",
       "      <td>13000000</td>\n",
       "      <td>108.0</td>\n",
       "      <td>2019-03-07</td>\n",
       "      <td>3</td>\n",
       "      <td>2.7</td>\n",
       "      <td>16</td>\n",
       "      <td>51.0</td>\n",
       "      <td>8</td>\n",
       "      <td>False</td>\n",
       "      <td>...</td>\n",
       "      <td>25.0</td>\n",
       "      <td>0</td>\n",
       "      <td>Санкт-Петербург</td>\n",
       "      <td>18863.0</td>\n",
       "      <td>16028.0</td>\n",
       "      <td>1.0</td>\n",
       "      <td>482.0</td>\n",
       "      <td>2.0</td>\n",
       "      <td>755.0</td>\n",
       "      <td>0</td>\n",
       "    </tr>\n",
       "    <tr>\n",
       "      <th>1</th>\n",
       "      <td>7</td>\n",
       "      <td>3350000</td>\n",
       "      <td>40.4</td>\n",
       "      <td>2018-12-04</td>\n",
       "      <td>1</td>\n",
       "      <td>2.8</td>\n",
       "      <td>11</td>\n",
       "      <td>18.6</td>\n",
       "      <td>1</td>\n",
       "      <td>False</td>\n",
       "      <td>...</td>\n",
       "      <td>11.0</td>\n",
       "      <td>2</td>\n",
       "      <td>посёлок Шушары</td>\n",
       "      <td>12817.0</td>\n",
       "      <td>18603.0</td>\n",
       "      <td>0.0</td>\n",
       "      <td>NaN</td>\n",
       "      <td>0.0</td>\n",
       "      <td>NaN</td>\n",
       "      <td>81</td>\n",
       "    </tr>\n",
       "    <tr>\n",
       "      <th>2</th>\n",
       "      <td>10</td>\n",
       "      <td>5196000</td>\n",
       "      <td>56.0</td>\n",
       "      <td>2015-08-20</td>\n",
       "      <td>2</td>\n",
       "      <td>2.8</td>\n",
       "      <td>5</td>\n",
       "      <td>34.3</td>\n",
       "      <td>4</td>\n",
       "      <td>False</td>\n",
       "      <td>...</td>\n",
       "      <td>8.3</td>\n",
       "      <td>0</td>\n",
       "      <td>Санкт-Петербург</td>\n",
       "      <td>21741.0</td>\n",
       "      <td>13933.0</td>\n",
       "      <td>1.0</td>\n",
       "      <td>90.0</td>\n",
       "      <td>2.0</td>\n",
       "      <td>574.0</td>\n",
       "      <td>558</td>\n",
       "    </tr>\n",
       "    <tr>\n",
       "      <th>3</th>\n",
       "      <td>0</td>\n",
       "      <td>64900000</td>\n",
       "      <td>159.0</td>\n",
       "      <td>2015-07-24</td>\n",
       "      <td>3</td>\n",
       "      <td>2.8</td>\n",
       "      <td>14</td>\n",
       "      <td>89.8</td>\n",
       "      <td>9</td>\n",
       "      <td>False</td>\n",
       "      <td>...</td>\n",
       "      <td>29.5</td>\n",
       "      <td>0</td>\n",
       "      <td>Санкт-Петербург</td>\n",
       "      <td>28098.0</td>\n",
       "      <td>6800.0</td>\n",
       "      <td>2.0</td>\n",
       "      <td>84.0</td>\n",
       "      <td>3.0</td>\n",
       "      <td>234.0</td>\n",
       "      <td>424</td>\n",
       "    </tr>\n",
       "    <tr>\n",
       "      <th>4</th>\n",
       "      <td>2</td>\n",
       "      <td>10000000</td>\n",
       "      <td>100.0</td>\n",
       "      <td>2018-06-19</td>\n",
       "      <td>2</td>\n",
       "      <td>3.0</td>\n",
       "      <td>14</td>\n",
       "      <td>32.0</td>\n",
       "      <td>13</td>\n",
       "      <td>False</td>\n",
       "      <td>...</td>\n",
       "      <td>41.0</td>\n",
       "      <td>0</td>\n",
       "      <td>Санкт-Петербург</td>\n",
       "      <td>31856.0</td>\n",
       "      <td>8098.0</td>\n",
       "      <td>2.0</td>\n",
       "      <td>112.0</td>\n",
       "      <td>1.0</td>\n",
       "      <td>48.0</td>\n",
       "      <td>121</td>\n",
       "    </tr>\n",
       "  </tbody>\n",
       "</table>\n",
       "<p>5 rows × 22 columns</p>\n",
       "</div>"
      ],
      "text/plain": [
       "   total_images  last_price  total_area first_day_exposition  rooms  \\\n",
       "0            20    13000000       108.0           2019-03-07      3   \n",
       "1             7     3350000        40.4           2018-12-04      1   \n",
       "2            10     5196000        56.0           2015-08-20      2   \n",
       "3             0    64900000       159.0           2015-07-24      3   \n",
       "4             2    10000000       100.0           2018-06-19      2   \n",
       "\n",
       "   ceiling_height  floors_total  living_area  floor  is_apartment  ...  \\\n",
       "0             2.7            16         51.0      8         False  ...   \n",
       "1             2.8            11         18.6      1         False  ...   \n",
       "2             2.8             5         34.3      4         False  ...   \n",
       "3             2.8            14         89.8      9         False  ...   \n",
       "4             3.0            14         32.0     13         False  ...   \n",
       "\n",
       "   kitchen_area  balcony    locality_name  airports_nearest  \\\n",
       "0          25.0        0  Санкт-Петербург           18863.0   \n",
       "1          11.0        2   посёлок Шушары           12817.0   \n",
       "2           8.3        0  Санкт-Петербург           21741.0   \n",
       "3          29.5        0  Санкт-Петербург           28098.0   \n",
       "4          41.0        0  Санкт-Петербург           31856.0   \n",
       "\n",
       "  cityCenters_nearest  parks_around3000  parks_nearest  ponds_around3000  \\\n",
       "0             16028.0               1.0          482.0               2.0   \n",
       "1             18603.0               0.0            NaN               0.0   \n",
       "2             13933.0               1.0           90.0               2.0   \n",
       "3              6800.0               2.0           84.0               3.0   \n",
       "4              8098.0               2.0          112.0               1.0   \n",
       "\n",
       "   ponds_nearest  days_exposition  \n",
       "0          755.0                0  \n",
       "1            NaN               81  \n",
       "2          574.0              558  \n",
       "3          234.0              424  \n",
       "4           48.0              121  \n",
       "\n",
       "[5 rows x 22 columns]"
      ]
     },
     "execution_count": 6,
     "metadata": {},
     "output_type": "execute_result"
    }
   ],
   "source": [
    "data.info()\n",
    "data.head()"
   ]
  },
  {
   "cell_type": "markdown",
   "metadata": {},
   "source": [
    "So, as a result of studying the data, some errors in the data were found, including the absence of values, also inadequate data types, for example, users quite often do not indicate the height of the ceiling, most likely because they do not know or do not consider this an important indicator. Also, users do not consider it necessary to indicate that there are no balconies, which leads to a huge number of NaN values, it may be worth giving the user a choice of options, and not the ability to enter it on their own, the same goes for the options for the is_apartment pointer.\n",
    "\n",
    "Data analysis was carried out, values were restored where necessary, some extra lines were removed, some data types were brought to the optimal, either for ease of use with data or for storage optimization."
   ]
  },
  {
   "cell_type": "markdown",
   "metadata": {},
   "source": [
    "## Calculations and adding results to the table"
   ]
  },
  {
   "cell_type": "markdown",
   "metadata": {},
   "source": [
    "Let's calculate and add the price per square meter to the table; day of the week, month and year of publication of the announcement; floor of the apartment; options - first, last, other; the ratio of living and total area, as well as the ratio of kitchen area to total."
   ]
  },
  {
   "cell_type": "code",
   "execution_count": 7,
   "metadata": {},
   "outputs": [],
   "source": [
    "data['price_per_meter'] = (data['last_price']/data['total_area']).round(decimals=1) # price per meter\n",
    "data['weekday'] = data['first_day_exposition'].dt.weekday # week day\n",
    "data['month'] = data['first_day_exposition'].dt.month  # month\n",
    "data['year_published'] = data['first_day_exposition'].dt.year  # year\n",
    "\n",
    "# Create a new floor_category column with the apartment floor category; options - first, last, other\n",
    "def floor_category(floor, floors_total):\n",
    "    if floor == 1:\n",
    "        return 'first'\n",
    "    if floor == floors_total:\n",
    "        return 'last'\n",
    "    return 'other'\n",
    "\n",
    "data['floor_category'] = data.apply(lambda x: floor_category(x['floor'], x['floors_total']), axis=1)\n",
    "\n",
    "# Previously, I already calculated the average coefficients of the kitchen and living area, now we will calculate \n",
    "#the same coefficients for each object and add them to new columns\n",
    "data['k_kitchen'] = data['kitchen_area']/data['total_area']\n",
    "data['k_living_area'] = data['living_area']/data['total_area']"
   ]
  },
  {
   "cell_type": "code",
   "execution_count": 8,
   "metadata": {},
   "outputs": [
    {
     "data": {
      "text/html": [
       "<div>\n",
       "<style scoped>\n",
       "    .dataframe tbody tr th:only-of-type {\n",
       "        vertical-align: middle;\n",
       "    }\n",
       "\n",
       "    .dataframe tbody tr th {\n",
       "        vertical-align: top;\n",
       "    }\n",
       "\n",
       "    .dataframe thead th {\n",
       "        text-align: right;\n",
       "    }\n",
       "</style>\n",
       "<table border=\"1\" class=\"dataframe\">\n",
       "  <thead>\n",
       "    <tr style=\"text-align: right;\">\n",
       "      <th></th>\n",
       "      <th>total_images</th>\n",
       "      <th>last_price</th>\n",
       "      <th>total_area</th>\n",
       "      <th>first_day_exposition</th>\n",
       "      <th>rooms</th>\n",
       "      <th>ceiling_height</th>\n",
       "      <th>floors_total</th>\n",
       "      <th>living_area</th>\n",
       "      <th>floor</th>\n",
       "      <th>is_apartment</th>\n",
       "      <th>...</th>\n",
       "      <th>ponds_around3000</th>\n",
       "      <th>ponds_nearest</th>\n",
       "      <th>days_exposition</th>\n",
       "      <th>price_per_meter</th>\n",
       "      <th>weekday</th>\n",
       "      <th>month</th>\n",
       "      <th>year_published</th>\n",
       "      <th>floor_category</th>\n",
       "      <th>k_kitchen</th>\n",
       "      <th>k_living_area</th>\n",
       "    </tr>\n",
       "  </thead>\n",
       "  <tbody>\n",
       "    <tr>\n",
       "      <th>0</th>\n",
       "      <td>20</td>\n",
       "      <td>13000000</td>\n",
       "      <td>108.0</td>\n",
       "      <td>2019-03-07</td>\n",
       "      <td>3</td>\n",
       "      <td>2.7</td>\n",
       "      <td>16</td>\n",
       "      <td>51.0</td>\n",
       "      <td>8</td>\n",
       "      <td>False</td>\n",
       "      <td>...</td>\n",
       "      <td>2.0</td>\n",
       "      <td>755.0</td>\n",
       "      <td>0</td>\n",
       "      <td>120370.4</td>\n",
       "      <td>3</td>\n",
       "      <td>3</td>\n",
       "      <td>2019</td>\n",
       "      <td>other</td>\n",
       "      <td>0.231481</td>\n",
       "      <td>0.472222</td>\n",
       "    </tr>\n",
       "    <tr>\n",
       "      <th>1</th>\n",
       "      <td>7</td>\n",
       "      <td>3350000</td>\n",
       "      <td>40.4</td>\n",
       "      <td>2018-12-04</td>\n",
       "      <td>1</td>\n",
       "      <td>2.8</td>\n",
       "      <td>11</td>\n",
       "      <td>18.6</td>\n",
       "      <td>1</td>\n",
       "      <td>False</td>\n",
       "      <td>...</td>\n",
       "      <td>0.0</td>\n",
       "      <td>NaN</td>\n",
       "      <td>81</td>\n",
       "      <td>82920.8</td>\n",
       "      <td>1</td>\n",
       "      <td>12</td>\n",
       "      <td>2018</td>\n",
       "      <td>first</td>\n",
       "      <td>0.272277</td>\n",
       "      <td>0.460396</td>\n",
       "    </tr>\n",
       "    <tr>\n",
       "      <th>2</th>\n",
       "      <td>10</td>\n",
       "      <td>5196000</td>\n",
       "      <td>56.0</td>\n",
       "      <td>2015-08-20</td>\n",
       "      <td>2</td>\n",
       "      <td>2.8</td>\n",
       "      <td>5</td>\n",
       "      <td>34.3</td>\n",
       "      <td>4</td>\n",
       "      <td>False</td>\n",
       "      <td>...</td>\n",
       "      <td>2.0</td>\n",
       "      <td>574.0</td>\n",
       "      <td>558</td>\n",
       "      <td>92785.7</td>\n",
       "      <td>3</td>\n",
       "      <td>8</td>\n",
       "      <td>2015</td>\n",
       "      <td>other</td>\n",
       "      <td>0.148214</td>\n",
       "      <td>0.612500</td>\n",
       "    </tr>\n",
       "    <tr>\n",
       "      <th>3</th>\n",
       "      <td>0</td>\n",
       "      <td>64900000</td>\n",
       "      <td>159.0</td>\n",
       "      <td>2015-07-24</td>\n",
       "      <td>3</td>\n",
       "      <td>2.8</td>\n",
       "      <td>14</td>\n",
       "      <td>89.8</td>\n",
       "      <td>9</td>\n",
       "      <td>False</td>\n",
       "      <td>...</td>\n",
       "      <td>3.0</td>\n",
       "      <td>234.0</td>\n",
       "      <td>424</td>\n",
       "      <td>408176.1</td>\n",
       "      <td>4</td>\n",
       "      <td>7</td>\n",
       "      <td>2015</td>\n",
       "      <td>other</td>\n",
       "      <td>0.185535</td>\n",
       "      <td>0.564780</td>\n",
       "    </tr>\n",
       "    <tr>\n",
       "      <th>4</th>\n",
       "      <td>2</td>\n",
       "      <td>10000000</td>\n",
       "      <td>100.0</td>\n",
       "      <td>2018-06-19</td>\n",
       "      <td>2</td>\n",
       "      <td>3.0</td>\n",
       "      <td>14</td>\n",
       "      <td>32.0</td>\n",
       "      <td>13</td>\n",
       "      <td>False</td>\n",
       "      <td>...</td>\n",
       "      <td>1.0</td>\n",
       "      <td>48.0</td>\n",
       "      <td>121</td>\n",
       "      <td>100000.0</td>\n",
       "      <td>1</td>\n",
       "      <td>6</td>\n",
       "      <td>2018</td>\n",
       "      <td>other</td>\n",
       "      <td>0.410000</td>\n",
       "      <td>0.320000</td>\n",
       "    </tr>\n",
       "  </tbody>\n",
       "</table>\n",
       "<p>5 rows × 29 columns</p>\n",
       "</div>"
      ],
      "text/plain": [
       "   total_images  last_price  total_area first_day_exposition  rooms  \\\n",
       "0            20    13000000       108.0           2019-03-07      3   \n",
       "1             7     3350000        40.4           2018-12-04      1   \n",
       "2            10     5196000        56.0           2015-08-20      2   \n",
       "3             0    64900000       159.0           2015-07-24      3   \n",
       "4             2    10000000       100.0           2018-06-19      2   \n",
       "\n",
       "   ceiling_height  floors_total  living_area  floor  is_apartment  ...  \\\n",
       "0             2.7            16         51.0      8         False  ...   \n",
       "1             2.8            11         18.6      1         False  ...   \n",
       "2             2.8             5         34.3      4         False  ...   \n",
       "3             2.8            14         89.8      9         False  ...   \n",
       "4             3.0            14         32.0     13         False  ...   \n",
       "\n",
       "   ponds_around3000  ponds_nearest  days_exposition  price_per_meter weekday  \\\n",
       "0               2.0          755.0                0         120370.4       3   \n",
       "1               0.0            NaN               81          82920.8       1   \n",
       "2               2.0          574.0              558          92785.7       3   \n",
       "3               3.0          234.0              424         408176.1       4   \n",
       "4               1.0           48.0              121         100000.0       1   \n",
       "\n",
       "   month  year_published  floor_category  k_kitchen  k_living_area  \n",
       "0      3            2019           other   0.231481       0.472222  \n",
       "1     12            2018           first   0.272277       0.460396  \n",
       "2      8            2015           other   0.148214       0.612500  \n",
       "3      7            2015           other   0.185535       0.564780  \n",
       "4      6            2018           other   0.410000       0.320000  \n",
       "\n",
       "[5 rows x 29 columns]"
      ]
     },
     "execution_count": 8,
     "metadata": {},
     "output_type": "execute_result"
    }
   ],
   "source": [
    "data.head()"
   ]
  },
  {
   "cell_type": "markdown",
   "metadata": {},
   "source": [
    "## Data exploration"
   ]
  },
  {
   "cell_type": "markdown",
   "metadata": {},
   "source": [
    "We will conduct an exploratory data analysis, study the following parameters: area, price, number of rooms, ceiling height. Let's construct histograms for each parameter."
   ]
  },
  {
   "cell_type": "code",
   "execution_count": 9,
   "metadata": {},
   "outputs": [
    {
     "data": {
      "text/plain": [
       "Text(0, 0.5, 'Number of appartments')"
      ]
     },
     "execution_count": 9,
     "metadata": {},
     "output_type": "execute_result"
    },
    {
     "data": {
      "image/png": "[encoded data removed]",
      "text/plain": [
       "<Figure size 432x288 with 1 Axes>"
      ]
     },
     "metadata": {
      "needs_background": "light"
     },
     "output_type": "display_data"
    }
   ],
   "source": [
    "data['total_area'].plot(kind = 'hist', bins = 50, grid = True)\n",
    "plt.xlabel('Total apartment area')\n",
    "plt.ylabel('Number of appartments')"
   ]
  },
  {
   "cell_type": "code",
   "execution_count": 10,
   "metadata": {
    "scrolled": true
   },
   "outputs": [
    {
     "data": {
      "text/plain": [
       "Text(0, 0.5, 'Number of appartments')"
      ]
     },
     "execution_count": 10,
     "metadata": {},
     "output_type": "execute_result"
    },
    {
     "data": {
      "image/png": "[encoded data removed]",
      "text/plain": [
       "<Figure size 432x288 with 1 Axes>"
      ]
     },
     "metadata": {
      "needs_background": "light"
     },
     "output_type": "display_data"
    }
   ],
   "source": [
    "data['last_price'].plot(kind = 'hist', bins = 250, grid = True)\n",
    "plt.xlabel('Price')\n",
    "plt.ylabel('Number of appartments')"
   ]
  },
  {
   "cell_type": "code",
   "execution_count": 11,
   "metadata": {},
   "outputs": [
    {
     "data": {
      "text/plain": [
       "Text(0, 0.5, 'Number of appartments')"
      ]
     },
     "execution_count": 11,
     "metadata": {},
     "output_type": "execute_result"
    },
    {
     "data": {
      "image/png": "[encoded data removed]",
      "text/plain": [
       "<Figure size 432x288 with 1 Axes>"
      ]
     },
     "metadata": {
      "needs_background": "light"
     },
     "output_type": "display_data"
    }
   ],
   "source": [
    "data['rooms'].plot(kind = 'hist', bins = 50, grid = True)\n",
    "plt.xlabel('Rooms number')\n",
    "plt.ylabel('Number of appartments')"
   ]
  },
  {
   "cell_type": "code",
   "execution_count": 12,
   "metadata": {},
   "outputs": [
    {
     "data": {
      "text/plain": [
       "Text(0, 0.5, 'Number of appartments')"
      ]
     },
     "execution_count": 12,
     "metadata": {},
     "output_type": "execute_result"
    },
    {
     "data": {
      "image/png": "[encoded data removed]",
      "text/plain": [
       "<Figure size 432x288 with 1 Axes>"
      ]
     },
     "metadata": {
      "needs_background": "light"
     },
     "output_type": "display_data"
    }
   ],
   "source": [
    "data['ceiling_height'].plot(kind = 'hist', bins = 50, grid = True)\n",
    "plt.xlabel('Ceiling height')\n",
    "plt.ylabel('Number of appartments')"
   ]
  },
  {
   "cell_type": "markdown",
   "metadata": {},
   "source": [
    "According to the total_area histogram, we can say that the main part of the values is concentrated in values up to 200, but there are individual values over 800, most likely values above 200 will not be indicative for us in the study.\n",
    "\n",
    "The last_price histogram shows that the majority of values are up to 50 million, the rest will be indicative due to the small representation.\n",
    "\n",
    "The rooms histogram showed that there are objects with an incredibly large number of rooms, while the majority of apartments have up to 7 rooms. It is quite possible to imagine that there is an apartment with 19 rooms, but it is definitely not indicative for the study.\n",
    "\n",
    "The ceiling height histogram shows that the bulk of the values are approximately up to 3 meters"
   ]
  },
  {
   "cell_type": "code",
   "execution_count": 13,
   "metadata": {},
   "outputs": [
    {
     "data": {
      "text/plain": [
       "Text(0, 0.5, 'Number of appartments')"
      ]
     },
     "execution_count": 13,
     "metadata": {},
     "output_type": "execute_result"
    },
    {
     "data": {
      "image/png": "[encoded data removed]",
      "text/plain": [
       "<Figure size 432x288 with 1 Axes>"
      ]
     },
     "metadata": {
      "needs_background": "light"
     },
     "output_type": "display_data"
    }
   ],
   "source": [
    "data['days_exposition'].plot(kind = 'hist', bins = 100, grid = True, range=(1, data['days_exposition'].max()))\n",
    "plt.xlabel('Number of days')\n",
    "plt.ylabel('Number of appartments')"
   ]
  },
  {
   "cell_type": "code",
   "execution_count": 14,
   "metadata": {},
   "outputs": [],
   "source": [
    "#Exclude from the selection the missing values of the days_exposition column earlier, we equated them \n",
    "#to 0 for convenience, but now they can distort the data for us, and we will calculate the median and average values\n",
    "good_data = data[data['days_exposition']>0]"
   ]
  },
  {
   "cell_type": "code",
   "execution_count": 15,
   "metadata": {},
   "outputs": [
    {
     "data": {
      "text/plain": [
       "count    20470.000000\n",
       "mean       180.753200\n",
       "std        219.777916\n",
       "min          1.000000\n",
       "25%         45.000000\n",
       "50%         95.000000\n",
       "75%        231.000000\n",
       "max       1580.000000\n",
       "Name: days_exposition, dtype: float64"
      ]
     },
     "execution_count": 15,
     "metadata": {},
     "output_type": "execute_result"
    }
   ],
   "source": [
    "good_data['days_exposition'].describe()"
   ]
  },
  {
   "cell_type": "markdown",
   "metadata": {},
   "source": [
    "The standard deviation is quite large, which may indicate that there are serious anomalies or outliers in the sample.\n",
    "\n",
    "In my opinion, if an apartment is sold before six months, then this is quite a normal sale period for an apartment, but when the period is more than six months, or even more than a year, then this is already a very long time. Half of the apartments from the sample were sold within 3 months, which is a very short period for selling an apartment. The remaining half sold both quickly and for a very long time, an average of 180 days.\n",
    "\n",
    "Let's build a distribution diagram to estimate the limits of normal values and the number of outliers."
   ]
  },
  {
   "cell_type": "code",
   "execution_count": 16,
   "metadata": {},
   "outputs": [
    {
     "data": {
      "image/png": "[encoded data removed]",
      "text/plain": [
       "<Figure size 432x288 with 1 Axes>"
      ]
     },
     "metadata": {
      "needs_background": "light"
     },
     "output_type": "display_data"
    }
   ],
   "source": [
    "good_data.boxplot(column='days_exposition')\n",
    "plt.show()"
   ]
  },
  {
   "cell_type": "markdown",
   "metadata": {},
   "source": [
    "So, according to the distribution diagram, it can be seen that the lower mustache rests on 0, the upper one on the value of 500, this is the approximate border of the normal range, the rest are outliers and there are quite a lot of them, but the values that the upper mustache cut off are rare, since the median does not tend to long tail of large values.\n",
    "\n",
    "Let's build a histogram based on normal values to look at the data in even more detail."
   ]
  },
  {
   "cell_type": "code",
   "execution_count": 17,
   "metadata": {},
   "outputs": [
    {
     "data": {
      "text/plain": [
       "<AxesSubplot:ylabel='Frequency'>"
      ]
     },
     "execution_count": 17,
     "metadata": {},
     "output_type": "execute_result"
    },
    {
     "data": {
      "image/png": "[encoded data removed]",
      "text/plain": [
       "<Figure size 432x288 with 1 Axes>"
      ]
     },
     "metadata": {
      "needs_background": "light"
     },
     "output_type": "display_data"
    }
   ],
   "source": [
    "good_data['days_exposition'].plot(kind = 'hist', bins = 250, grid = True, range=(1, 500))"
   ]
  },
  {
   "cell_type": "code",
   "execution_count": 18,
   "metadata": {},
   "outputs": [
    {
     "data": {
      "text/plain": [
       "45    879\n",
       "60    538\n",
       "7     234\n",
       "30    208\n",
       "90    203\n",
       "Name: days_exposition, dtype: int64"
      ]
     },
     "execution_count": 18,
     "metadata": {},
     "output_type": "execute_result"
    }
   ],
   "source": [
    "good_data['days_exposition'].value_counts().head()"
   ]
  },
  {
   "cell_type": "markdown",
   "metadata": {},
   "source": [
    "The number of sales with a period of 45, 60, 7, 30 and 90 days is incredibly huge, most likely the sale happened faster, but the seller or agent forgot or did not have time to remove the ad and it was advertizing until the end of the placement period."
   ]
  },
  {
   "cell_type": "markdown",
   "metadata": {},
   "source": [
    "Now let's look at factors that most affect the cost of an apartment. We will study whether the price depends on a square meter, number of rooms, floor (first or last), distance from the center. We will also consider whether there is a dependence on the date of placement: day of the week, month and year."
   ]
  },
  {
   "cell_type": "code",
   "execution_count": 19,
   "metadata": {},
   "outputs": [
    {
     "name": "stdout",
     "output_type": "stream",
     "text": [
      "0.7691335993258182\n"
     ]
    },
    {
     "data": {
      "text/plain": [
       "<AxesSubplot:xlabel='last_price', ylabel='total_area'>"
      ]
     },
     "execution_count": 19,
     "metadata": {},
     "output_type": "execute_result"
    },
    {
     "data": {
      "image/png": "[encoded data removed]",
      "text/plain": [
       "<Figure size 432x288 with 1 Axes>"
      ]
     },
     "metadata": {
      "needs_background": "light"
     },
     "output_type": "display_data"
    }
   ],
   "source": [
    "good_data = data[(data['total_area'] < 600) & (data['last_price'] < 100000000)]\n",
    "\n",
    "print(good_data['last_price'].corr(good_data['total_area']))\n",
    "good_data.plot(x='last_price', y='total_area', kind='scatter') "
   ]
  },
  {
   "cell_type": "markdown",
   "metadata": {},
   "source": [
    "The correlation coefficient of the price dependence on the area of ​​​​the apartment shows a normal positive corelation of the apartment cost on the total area, this can also be seen from the graph."
   ]
  },
  {
   "cell_type": "code",
   "execution_count": 20,
   "metadata": {},
   "outputs": [
    {
     "name": "stdout",
     "output_type": "stream",
     "text": [
      "0.4725643904733227\n"
     ]
    },
    {
     "data": {
      "text/plain": [
       "<AxesSubplot:xlabel='last_price', ylabel='rooms'>"
      ]
     },
     "execution_count": 20,
     "metadata": {},
     "output_type": "execute_result"
    },
    {
     "data": {
      "image/png": "[encoded data removed]",
      "text/plain": [
       "<Figure size 432x288 with 1 Axes>"
      ]
     },
     "metadata": {
      "needs_background": "light"
     },
     "output_type": "display_data"
    }
   ],
   "source": [
    "print(good_data['last_price'].corr(good_data['rooms']))\n",
    "good_data.plot(x='last_price', y='rooms', kind='scatter') "
   ]
  },
  {
   "cell_type": "markdown",
   "metadata": {},
   "source": [
    "The correlation between price and number of rooms is even less, in general, this is confirmed by experience, the most expensive in terms of price per square meter are small apartments, then the total cost does not grow so fast."
   ]
  },
  {
   "cell_type": "code",
   "execution_count": 21,
   "metadata": {},
   "outputs": [
    {
     "name": "stdout",
     "output_type": "stream",
     "text": [
      "                median_price  sales_amount\n",
      "floor_category                            \n",
      "first                3900000          2911\n",
      "last                 4300000          3319\n",
      "other                4835000         17383\n"
     ]
    },
    {
     "data": {
      "text/plain": [
       "<AxesSubplot:xlabel='floor_category'>"
      ]
     },
     "execution_count": 21,
     "metadata": {},
     "output_type": "execute_result"
    },
    {
     "data": {
      "image/png": "[encoded data removed]",
      "text/plain": [
       "<Figure size 432x288 with 1 Axes>"
      ]
     },
     "metadata": {
      "needs_background": "light"
     },
     "output_type": "display_data"
    }
   ],
   "source": [
    "data_pivot = good_data.pivot_table(index='floor_category', values='last_price', aggfunc=['median', 'count'])\n",
    "data_pivot.columns = ['median_price', 'sales_amount']\n",
    "print(data_pivot)\n",
    "\n",
    "data_pivot.plot(y='median_price', kind = 'bar')"
   ]
  },
  {
   "cell_type": "markdown",
   "metadata": {},
   "source": [
    "This graph confirms my hypothesis that the first floor is usually the most disliked for the buyer and, as a result, the cheapest, then goes the last floor, it is also not particularly liked by buyers due to the risks of roof leakage, but still last floor is more popular on average and, as a result, more expensive."
   ]
  },
  {
   "cell_type": "code",
   "execution_count": 45,
   "metadata": {},
   "outputs": [
    {
     "name": "stdout",
     "output_type": "stream",
     "text": [
      "Correlation coefficient = -0.22040537102895374\n",
      "Dataset size = 23169\n"
     ]
    },
    {
     "data": {
      "text/plain": [
       "<AxesSubplot:xlabel='last_price', ylabel='cityCenters_nearest'>"
      ]
     },
     "execution_count": 45,
     "metadata": {},
     "output_type": "execute_result"
    },
    {
     "data": {
      "image/png": "[encoded data removed]",
      "text/plain": [
       "<Figure size 432x288 with 1 Axes>"
      ]
     },
     "metadata": {
      "needs_background": "light"
     },
     "output_type": "display_data"
    }
   ],
   "source": [
    "print('Correlation coefficient =', good_data['last_price'].corr(good_data['cityCenters_nearest']))\n",
    "print('Dataset size =', len(good_data))  \n",
    "good_data.plot(x='last_price', y='cityCenters_nearest', kind='scatter') "
   ]
  },
  {
   "cell_type": "markdown",
   "metadata": {},
   "source": [
    "The correlation of cost with distance from center is negative, which is logical, the farther from the center, the cheaper housing, but nevertheless, the correlation coefficient shows that the dependence is very weak. Let's check whether this is a consequence of outliers, get rid of them and look at the result. We use a distribution diagram to determine the outliers. It shows that last_price > 25000000 are outliers. Let's filter the dataset by these values and see if the correlation has changed."
   ]
  },
  {
   "cell_type": "code",
   "execution_count": 23,
   "metadata": {},
   "outputs": [
    {
     "data": {
      "image/png": "[encoded data removed]",
      "text/plain": [
       "<Figure size 432x288 with 1 Axes>"
      ]
     },
     "metadata": {
      "needs_background": "light"
     },
     "output_type": "display_data"
    }
   ],
   "source": [
    "good_data.boxplot(column='last_price')\n",
    "plt.show()"
   ]
  },
  {
   "cell_type": "code",
   "execution_count": 44,
   "metadata": {},
   "outputs": [
    {
     "name": "stdout",
     "output_type": "stream",
     "text": [
      "Correlation coefficient = -0.22040537102895374\n",
      "Dataset size = 23169\n"
     ]
    },
    {
     "data": {
      "text/plain": [
       "<AxesSubplot:xlabel='last_price', ylabel='cityCenters_nearest'>"
      ]
     },
     "execution_count": 44,
     "metadata": {},
     "output_type": "execute_result"
    },
    {
     "data": {
      "image/png": "[encoded data removed]",
      "text/plain": [
       "<Figure size 432x288 with 1 Axes>"
      ]
     },
     "metadata": {
      "needs_background": "light"
     },
     "output_type": "display_data"
    }
   ],
   "source": [
    "good_data = data[data['last_price'] < 25000000]\n",
    "print('Correlation coefficient =',good_data['last_price'].corr(good_data['cityCenters_nearest']))\n",
    "print('Dataset size =', len(good_data))  \n",
    "good_data.plot(x='last_price', y='cityCenters_nearest', kind='scatter') "
   ]
  },
  {
   "cell_type": "markdown",
   "metadata": {},
   "source": [
    "As we can see, by the size of the filtered dataset, we cut off a small number of data, while the correlation coefficient, after filtering outliers, began to show a slightly lower dependence of the price on proximity to the center, but nevertheless, the indicator is not very high.\n",
    "\n",
    "Now let's check whether the day of the week somehow affects the value of the property:"
   ]
  },
  {
   "cell_type": "code",
   "execution_count": 25,
   "metadata": {},
   "outputs": [
    {
     "name": "stdout",
     "output_type": "stream",
     "text": [
      "         median_price  sales_amount\n",
      "weekday                            \n",
      "0             4650000          3606\n",
      "1             4720000          4175\n",
      "2             4700000          3966\n",
      "3             4650000          4286\n",
      "4             4577500          3992\n",
      "5             4575000          1933\n",
      "6             4550000          1692\n"
     ]
    },
    {
     "data": {
      "text/plain": [
       "<AxesSubplot:xlabel='weekday'>"
      ]
     },
     "execution_count": 25,
     "metadata": {},
     "output_type": "execute_result"
    },
    {
     "data": {
      "image/png": "[encoded data removed]",
      "text/plain": [
       "<Figure size 432x288 with 1 Axes>"
      ]
     },
     "metadata": {
      "needs_background": "light"
     },
     "output_type": "display_data"
    }
   ],
   "source": [
    "data_pivot = data.pivot_table(index='weekday', values='last_price', aggfunc=['median', 'count'])\n",
    "data_pivot.columns = ['median_price', 'sales_amount']\n",
    "print(data_pivot)\n",
    "\n",
    "data_pivot.plot(y='median_price', kind = 'bar')"
   ]
  },
  {
   "cell_type": "markdown",
   "metadata": {},
   "source": [
    "Nearly identical values, no effect.\n",
    "\n",
    "Let's check whether the month of placement affects the cost of the object:"
   ]
  },
  {
   "cell_type": "code",
   "execution_count": 26,
   "metadata": {},
   "outputs": [
    {
     "name": "stdout",
     "output_type": "stream",
     "text": [
      "       median_price  sales_amount\n",
      "month                            \n",
      "1           4600000          1491\n",
      "2           4650000          2639\n",
      "3           4650000          2582\n",
      "4           4800000          2373\n",
      "5           4500000          1270\n",
      "6           4400000          1755\n",
      "7           4650000          1690\n",
      "8           4570000          1742\n",
      "9           4700000          1979\n",
      "10          4560000          2124\n",
      "11          4700000          2367\n",
      "12          4695000          1638\n"
     ]
    },
    {
     "data": {
      "text/plain": [
       "<AxesSubplot:xlabel='month'>"
      ]
     },
     "execution_count": 26,
     "metadata": {},
     "output_type": "execute_result"
    },
    {
     "data": {
      "image/png": "[encoded data removed]",
      "text/plain": [
       "<Figure size 432x288 with 1 Axes>"
      ]
     },
     "metadata": {
      "needs_background": "light"
     },
     "output_type": "display_data"
    }
   ],
   "source": [
    "data_pivot = data.pivot_table(index='month', values='last_price', aggfunc=['median', 'count'])\n",
    "data_pivot.columns = ['median_price', 'sales_amount']\n",
    "print(data_pivot)\n",
    "\n",
    "data_pivot.plot(y='median_price', kind = 'bar')"
   ]
  },
  {
   "cell_type": "markdown",
   "metadata": {},
   "source": [
    "In general, indicators are quite the same, May, June are a little out of place, perhaps this is somehow connected with summer holidays, but the difference is not significant.\n",
    "\n",
    "And now let's analyze how the average price has changed over the years:"
   ]
  },
  {
   "cell_type": "code",
   "execution_count": 27,
   "metadata": {},
   "outputs": [
    {
     "name": "stdout",
     "output_type": "stream",
     "text": [
      "                median_price  sales_amount\n",
      "year_published                            \n",
      "2014                 7640000           136\n",
      "2015                 5350000          1173\n",
      "2016                 4550000          2765\n",
      "2017                 4500000          8185\n",
      "2018                 4550000          8512\n",
      "2019                 5050000          2879\n"
     ]
    },
    {
     "data": {
      "text/plain": [
       "<AxesSubplot:xlabel='year_published'>"
      ]
     },
     "execution_count": 27,
     "metadata": {},
     "output_type": "execute_result"
    },
    {
     "data": {
      "image/png": "[encoded data removed]",
      "text/plain": [
       "<Figure size 432x288 with 1 Axes>"
      ]
     },
     "metadata": {
      "needs_background": "light"
     },
     "output_type": "display_data"
    }
   ],
   "source": [
    "data_pivot = data.pivot_table(index='year_published', values='last_price', aggfunc=['median', 'count'])\n",
    "data_pivot.columns = ['median_price', 'sales_amount']\n",
    "print(data_pivot)\n",
    "\n",
    "data_pivot.plot(y='median_price', kind = 'bar')"
   ]
  },
  {
   "cell_type": "markdown",
   "metadata": {},
   "source": [
    "The graph shows a very high figure for 2014, but there are only 136 values that can very easily be affected by several large values, so we can not focus too much on this year. In 2016-2018, there was a drawdown of the average price, followed by an increase in 2019 to the level of 2015.\n",
    "\n",
    "Let's choose 10 settlements with the largest number of ads."
   ]
  },
  {
   "cell_type": "code",
   "execution_count": 28,
   "metadata": {},
   "outputs": [
    {
     "data": {
      "text/html": [
       "<div>\n",
       "<style scoped>\n",
       "    .dataframe tbody tr th:only-of-type {\n",
       "        vertical-align: middle;\n",
       "    }\n",
       "\n",
       "    .dataframe tbody tr th {\n",
       "        vertical-align: top;\n",
       "    }\n",
       "\n",
       "    .dataframe thead th {\n",
       "        text-align: right;\n",
       "    }\n",
       "</style>\n",
       "<table border=\"1\" class=\"dataframe\">\n",
       "  <thead>\n",
       "    <tr style=\"text-align: right;\">\n",
       "      <th></th>\n",
       "      <th>mean</th>\n",
       "      <th>count</th>\n",
       "    </tr>\n",
       "    <tr>\n",
       "      <th>locality_name</th>\n",
       "      <th></th>\n",
       "      <th></th>\n",
       "    </tr>\n",
       "  </thead>\n",
       "  <tbody>\n",
       "    <tr>\n",
       "      <th>Санкт-Петербург</th>\n",
       "      <td>114849.008956</td>\n",
       "      <td>15721</td>\n",
       "    </tr>\n",
       "    <tr>\n",
       "      <th>посёлок Мурино</th>\n",
       "      <td>85752.188506</td>\n",
       "      <td>522</td>\n",
       "    </tr>\n",
       "    <tr>\n",
       "      <th>посёлок Шушары</th>\n",
       "      <td>78677.363636</td>\n",
       "      <td>440</td>\n",
       "    </tr>\n",
       "    <tr>\n",
       "      <th>Всеволожск</th>\n",
       "      <td>68654.475628</td>\n",
       "      <td>398</td>\n",
       "    </tr>\n",
       "    <tr>\n",
       "      <th>Пушкин</th>\n",
       "      <td>103125.818157</td>\n",
       "      <td>369</td>\n",
       "    </tr>\n",
       "    <tr>\n",
       "      <th>Колпино</th>\n",
       "      <td>75424.581953</td>\n",
       "      <td>338</td>\n",
       "    </tr>\n",
       "    <tr>\n",
       "      <th>посёлок Парголово</th>\n",
       "      <td>90175.915291</td>\n",
       "      <td>327</td>\n",
       "    </tr>\n",
       "    <tr>\n",
       "      <th>Гатчина</th>\n",
       "      <td>68746.147231</td>\n",
       "      <td>307</td>\n",
       "    </tr>\n",
       "    <tr>\n",
       "      <th>деревня Кудрово</th>\n",
       "      <td>92473.546488</td>\n",
       "      <td>299</td>\n",
       "    </tr>\n",
       "    <tr>\n",
       "      <th>Выборг</th>\n",
       "      <td>58141.907173</td>\n",
       "      <td>237</td>\n",
       "    </tr>\n",
       "  </tbody>\n",
       "</table>\n",
       "</div>"
      ],
      "text/plain": [
       "                            mean  count\n",
       "locality_name                          \n",
       "Санкт-Петербург    114849.008956  15721\n",
       "посёлок Мурино      85752.188506    522\n",
       "посёлок Шушары      78677.363636    440\n",
       "Всеволожск          68654.475628    398\n",
       "Пушкин             103125.818157    369\n",
       "Колпино             75424.581953    338\n",
       "посёлок Парголово   90175.915291    327\n",
       "Гатчина             68746.147231    307\n",
       "деревня Кудрово     92473.546488    299\n",
       "Выборг              58141.907173    237"
      ]
     },
     "execution_count": 28,
     "metadata": {},
     "output_type": "execute_result"
    }
   ],
   "source": [
    "data_pivot = data.pivot_table(index='locality_name', values='price_per_meter', aggfunc=['mean', 'count'])\n",
    "data_pivot.columns = ['mean', 'count']\n",
    "data_pivot.sort_values(by='count', ascending=False).head(10)\n"
   ]
  },
  {
   "cell_type": "markdown",
   "metadata": {},
   "source": [
    "Let's calculate the average price per square meter in these settlements. Let's select the settlements with the highest and lowest cost of housing.\n",
    "\n",
    "The maximum cost per square meter is as expected in St. Petersburg, followed by Pushkin and the village of Kudrovo, while Vyborg is in last 10th place.\n",
    "\n",
    "We will also plot the distribution of the cost per square meter to look at outliers. It can be seen from the diagram that values over 200,000 per square meter are outliers."
   ]
  },
  {
   "cell_type": "code",
   "execution_count": 29,
   "metadata": {},
   "outputs": [
    {
     "data": {
      "image/png": "[encoded data removed]",
      "text/plain": [
       "<Figure size 432x288 with 1 Axes>"
      ]
     },
     "metadata": {
      "needs_background": "light"
     },
     "output_type": "display_data"
    }
   ],
   "source": [
    "data.boxplot(column='price_per_meter')\n",
    "plt.show()"
   ]
  },
  {
   "cell_type": "code",
   "execution_count": 30,
   "metadata": {},
   "outputs": [
    {
     "data": {
      "text/plain": [
       "<AxesSubplot:>"
      ]
     },
     "execution_count": 30,
     "metadata": {},
     "output_type": "execute_result"
    },
    {
     "data": {
      "image/png": "[encoded data removed]",
      "text/plain": [
       "<Figure size 432x288 with 1 Axes>"
      ]
     },
     "metadata": {
      "needs_background": "light"
     },
     "output_type": "display_data"
    }
   ],
   "source": [
    "data[data['cityCenters_nearest'].isna()] = data['cityCenters_nearest'].median() #replace empty values with medians\n",
    "data['distance'] = (data['cityCenters_nearest']/1000).round() #convert the values to kilometers and round\n",
    "data['distance'] = data['distance'].astype('int')   #convert the value type to integer\n",
    "data['mean_price_per_km'] = (data['last_price']/data['distance']).round()  #calculate the average price per kilometer\n",
    "\n",
    "good_data = data.loc[(data['locality_name'] == 'Санкт-Петербург')]   \n",
    "good_data.boxplot(column='mean_price_per_km')"
   ]
  },
  {
   "cell_type": "markdown",
   "metadata": {},
   "source": [
    "To sample ads from St. Petersburg, we will plot the distribution of values to estimate the outliers. The graph shows that there are several outliers that accurately distort the representation. Limit the sample to 10000000 to discard very distant values"
   ]
  },
  {
   "cell_type": "code",
   "execution_count": 46,
   "metadata": {},
   "outputs": [
    {
     "name": "stdout",
     "output_type": "stream",
     "text": [
      "Correlation coeficient = -0.4570582813645872\n"
     ]
    },
    {
     "data": {
      "text/plain": [
       "<AxesSubplot:xlabel='distance', ylabel='mean_price_per_km'>"
      ]
     },
     "execution_count": 46,
     "metadata": {},
     "output_type": "execute_result"
    },
    {
     "data": {
      "image/png": "[encoded data removed]",
      "text/plain": [
       "<Figure size 432x288 with 1 Axes>"
      ]
     },
     "metadata": {
      "needs_background": "light"
     },
     "output_type": "display_data"
    }
   ],
   "source": [
    "good_data = good_data.loc[(data['mean_price_per_km'] < 10000000) & (data['mean_price_per_km'] > 0)]\n",
    "print('Correlation coeficient =',good_data['distance'].corr(good_data['mean_price_per_km']))\n",
    "good_data.plot(x='distance', y='mean_price_per_km', kind='scatter') "
   ]
  },
  {
   "cell_type": "markdown",
   "metadata": {},
   "source": [
    "The graph shows that a sharp change in the trend occurs in a place for objects located up to 8 km from the center, then prices decrease less sharply with distance from the center. It can be considered the central part of the city.\n",
    "\n",
    "Let's select a segment of apartments in the center. Let's analyze this territory and study the following parameters: area, price, number of rooms, ceiling height:"
   ]
  },
  {
   "cell_type": "code",
   "execution_count": 32,
   "metadata": {},
   "outputs": [
    {
     "data": {
      "text/html": [
       "<div>\n",
       "<style scoped>\n",
       "    .dataframe tbody tr th:only-of-type {\n",
       "        vertical-align: middle;\n",
       "    }\n",
       "\n",
       "    .dataframe tbody tr th {\n",
       "        vertical-align: top;\n",
       "    }\n",
       "\n",
       "    .dataframe thead th {\n",
       "        text-align: right;\n",
       "    }\n",
       "</style>\n",
       "<table border=\"1\" class=\"dataframe\">\n",
       "  <thead>\n",
       "    <tr style=\"text-align: right;\">\n",
       "      <th></th>\n",
       "      <th>total_images</th>\n",
       "      <th>last_price</th>\n",
       "      <th>total_area</th>\n",
       "      <th>first_day_exposition</th>\n",
       "      <th>rooms</th>\n",
       "      <th>ceiling_height</th>\n",
       "      <th>floors_total</th>\n",
       "      <th>living_area</th>\n",
       "      <th>floor</th>\n",
       "      <th>is_apartment</th>\n",
       "      <th>...</th>\n",
       "      <th>days_exposition</th>\n",
       "      <th>price_per_meter</th>\n",
       "      <th>weekday</th>\n",
       "      <th>month</th>\n",
       "      <th>year_published</th>\n",
       "      <th>floor_category</th>\n",
       "      <th>k_kitchen</th>\n",
       "      <th>k_living_area</th>\n",
       "      <th>distance</th>\n",
       "      <th>mean_price_per_km</th>\n",
       "    </tr>\n",
       "  </thead>\n",
       "  <tbody>\n",
       "    <tr>\n",
       "      <th>3</th>\n",
       "      <td>0</td>\n",
       "      <td>64900000</td>\n",
       "      <td>159.0</td>\n",
       "      <td>2015-07-24 00:00:00</td>\n",
       "      <td>3</td>\n",
       "      <td>2.8</td>\n",
       "      <td>14</td>\n",
       "      <td>89.8</td>\n",
       "      <td>9</td>\n",
       "      <td>False</td>\n",
       "      <td>...</td>\n",
       "      <td>424</td>\n",
       "      <td>408176.1</td>\n",
       "      <td>4</td>\n",
       "      <td>7</td>\n",
       "      <td>2015</td>\n",
       "      <td>other</td>\n",
       "      <td>0.185535</td>\n",
       "      <td>0.564780</td>\n",
       "      <td>7</td>\n",
       "      <td>9271429.0</td>\n",
       "    </tr>\n",
       "    <tr>\n",
       "      <th>4</th>\n",
       "      <td>2</td>\n",
       "      <td>10000000</td>\n",
       "      <td>100.0</td>\n",
       "      <td>2018-06-19 00:00:00</td>\n",
       "      <td>2</td>\n",
       "      <td>3.0</td>\n",
       "      <td>14</td>\n",
       "      <td>32.0</td>\n",
       "      <td>13</td>\n",
       "      <td>False</td>\n",
       "      <td>...</td>\n",
       "      <td>121</td>\n",
       "      <td>100000.0</td>\n",
       "      <td>1</td>\n",
       "      <td>6</td>\n",
       "      <td>2018</td>\n",
       "      <td>other</td>\n",
       "      <td>0.410000</td>\n",
       "      <td>0.320000</td>\n",
       "      <td>8</td>\n",
       "      <td>1250000.0</td>\n",
       "    </tr>\n",
       "    <tr>\n",
       "      <th>24</th>\n",
       "      <td>8</td>\n",
       "      <td>6500000</td>\n",
       "      <td>97.2</td>\n",
       "      <td>2015-10-31 00:00:00</td>\n",
       "      <td>2</td>\n",
       "      <td>2.8</td>\n",
       "      <td>3</td>\n",
       "      <td>46.5</td>\n",
       "      <td>1</td>\n",
       "      <td>False</td>\n",
       "      <td>...</td>\n",
       "      <td>265</td>\n",
       "      <td>66872.4</td>\n",
       "      <td>5</td>\n",
       "      <td>10</td>\n",
       "      <td>2015</td>\n",
       "      <td>first</td>\n",
       "      <td>0.201646</td>\n",
       "      <td>0.478395</td>\n",
       "      <td>2</td>\n",
       "      <td>3250000.0</td>\n",
       "    </tr>\n",
       "    <tr>\n",
       "      <th>35</th>\n",
       "      <td>6</td>\n",
       "      <td>15500000</td>\n",
       "      <td>149.0</td>\n",
       "      <td>2017-06-26 00:00:00</td>\n",
       "      <td>5</td>\n",
       "      <td>2.8</td>\n",
       "      <td>5</td>\n",
       "      <td>104.0</td>\n",
       "      <td>4</td>\n",
       "      <td>False</td>\n",
       "      <td>...</td>\n",
       "      <td>644</td>\n",
       "      <td>104026.8</td>\n",
       "      <td>0</td>\n",
       "      <td>6</td>\n",
       "      <td>2017</td>\n",
       "      <td>other</td>\n",
       "      <td>0.114094</td>\n",
       "      <td>0.697987</td>\n",
       "      <td>4</td>\n",
       "      <td>3875000.0</td>\n",
       "    </tr>\n",
       "    <tr>\n",
       "      <th>51</th>\n",
       "      <td>7</td>\n",
       "      <td>45000000</td>\n",
       "      <td>161.0</td>\n",
       "      <td>2017-10-17 00:00:00</td>\n",
       "      <td>3</td>\n",
       "      <td>3.2</td>\n",
       "      <td>8</td>\n",
       "      <td>38.0</td>\n",
       "      <td>4</td>\n",
       "      <td>False</td>\n",
       "      <td>...</td>\n",
       "      <td>541</td>\n",
       "      <td>279503.1</td>\n",
       "      <td>1</td>\n",
       "      <td>10</td>\n",
       "      <td>2017</td>\n",
       "      <td>other</td>\n",
       "      <td>0.310559</td>\n",
       "      <td>0.236025</td>\n",
       "      <td>7</td>\n",
       "      <td>6428571.0</td>\n",
       "    </tr>\n",
       "  </tbody>\n",
       "</table>\n",
       "<p>5 rows × 31 columns</p>\n",
       "</div>"
      ],
      "text/plain": [
       "    total_images  last_price  total_area first_day_exposition  rooms  \\\n",
       "3              0    64900000       159.0  2015-07-24 00:00:00      3   \n",
       "4              2    10000000       100.0  2018-06-19 00:00:00      2   \n",
       "24             8     6500000        97.2  2015-10-31 00:00:00      2   \n",
       "35             6    15500000       149.0  2017-06-26 00:00:00      5   \n",
       "51             7    45000000       161.0  2017-10-17 00:00:00      3   \n",
       "\n",
       "    ceiling_height  floors_total  living_area  floor is_apartment  ...  \\\n",
       "3              2.8            14         89.8      9        False  ...   \n",
       "4              3.0            14         32.0     13        False  ...   \n",
       "24             2.8             3         46.5      1        False  ...   \n",
       "35             2.8             5        104.0      4        False  ...   \n",
       "51             3.2             8         38.0      4        False  ...   \n",
       "\n",
       "   days_exposition price_per_meter  weekday  month year_published  \\\n",
       "3              424        408176.1        4      7           2015   \n",
       "4              121        100000.0        1      6           2018   \n",
       "24             265         66872.4        5     10           2015   \n",
       "35             644        104026.8        0      6           2017   \n",
       "51             541        279503.1        1     10           2017   \n",
       "\n",
       "    floor_category  k_kitchen  k_living_area  distance  mean_price_per_km  \n",
       "3            other   0.185535       0.564780         7          9271429.0  \n",
       "4            other   0.410000       0.320000         8          1250000.0  \n",
       "24           first   0.201646       0.478395         2          3250000.0  \n",
       "35           other   0.114094       0.697987         4          3875000.0  \n",
       "51           other   0.310559       0.236025         7          6428571.0  \n",
       "\n",
       "[5 rows x 31 columns]"
      ]
     },
     "execution_count": 32,
     "metadata": {},
     "output_type": "execute_result"
    }
   ],
   "source": [
    "good_data = good_data[(good_data['distance'] <= 8) & (good_data['total_area'] <800) & (good_data['mean_price_per_km'] < 10000000)]\n",
    "good_data.head()"
   ]
  },
  {
   "cell_type": "code",
   "execution_count": 33,
   "metadata": {},
   "outputs": [
    {
     "data": {
      "text/plain": [
       "Text(0, 0.5, 'Количество объектов')"
      ]
     },
     "execution_count": 33,
     "metadata": {},
     "output_type": "execute_result"
    },
    {
     "data": {
      "image/png": "[encoded data removed]",
      "text/plain": [
       "<Figure size 432x288 with 1 Axes>"
      ]
     },
     "metadata": {
      "needs_background": "light"
     },
     "output_type": "display_data"
    }
   ],
   "source": [
    "good_data['total_area'].plot(kind = 'hist', bins = 50, grid = True)\n",
    "plt.xlabel('Total apartment area')\n",
    "plt.ylabel('Number of objects')"
   ]
  },
  {
   "cell_type": "markdown",
   "metadata": {},
   "source": [
    "In general, the histogram is similar to the chart for the entire sample, but it is smaller, since very outlier values have been cut off."
   ]
  },
  {
   "cell_type": "code",
   "execution_count": 34,
   "metadata": {},
   "outputs": [
    {
     "data": {
      "text/plain": [
       "Text(0, 0.5, 'Количество объектов')"
      ]
     },
     "execution_count": 34,
     "metadata": {},
     "output_type": "execute_result"
    },
    {
     "data": {
      "image/png": "[encoded data removed]",
      "text/plain": [
       "<Figure size 432x288 with 1 Axes>"
      ]
     },
     "metadata": {
      "needs_background": "light"
     },
     "output_type": "display_data"
    }
   ],
   "source": [
    "good_data['last_price'].plot(kind = 'hist', bins = 50, grid = True)\n",
    "plt.xlabel('Price')\n",
    "plt.ylabel('Number of objects')"
   ]
  },
  {
   "cell_type": "markdown",
   "metadata": {},
   "source": [
    "The price histogram, without strong outliers, has become similar to a normal distribution curve."
   ]
  },
  {
   "cell_type": "code",
   "execution_count": 35,
   "metadata": {},
   "outputs": [
    {
     "data": {
      "text/plain": [
       "Text(0, 0.5, 'Количество объектов')"
      ]
     },
     "execution_count": 35,
     "metadata": {},
     "output_type": "execute_result"
    },
    {
     "data": {
      "image/png": "[encoded data removed]",
      "text/plain": [
       "<Figure size 432x288 with 1 Axes>"
      ]
     },
     "metadata": {
      "needs_background": "light"
     },
     "output_type": "display_data"
    }
   ],
   "source": [
    "good_data['rooms'].plot(kind = 'hist', bins = 50, grid = True)\n",
    "plt.xlabel('Number of rooms')\n",
    "plt.ylabel('Number of objects')"
   ]
  },
  {
   "cell_type": "markdown",
   "metadata": {},
   "source": [
    "In St. Petersburg, apartments with 2-3 rooms prevail over studios and apartments with a large number of rooms, while studios and one-room apartments dominated in the overall sample."
   ]
  },
  {
   "cell_type": "code",
   "execution_count": 36,
   "metadata": {},
   "outputs": [
    {
     "data": {
      "text/plain": [
       "Text(0, 0.5, 'Количество объектов')"
      ]
     },
     "execution_count": 36,
     "metadata": {},
     "output_type": "execute_result"
    },
    {
     "data": {
      "image/png": "[encoded data removed]",
      "text/plain": [
       "<Figure size 432x288 with 1 Axes>"
      ]
     },
     "metadata": {
      "needs_background": "light"
     },
     "output_type": "display_data"
    }
   ],
   "source": [
    "good_data['ceiling_height'].plot(kind = 'hist', bins = 50, grid = True)\n",
    "plt.xlabel('Ceiling height')\n",
    "plt.ylabel('Number of objects')"
   ]
  },
  {
   "cell_type": "markdown",
   "metadata": {},
   "source": [
    "In terms of ceiling height, St. Petersburg apartments differ from the general sample in that quite a few values ​​are more than 2.7 meters and higher, while values of 2.7 and lower prevailed in the general sample.\n",
    "\n",
    "Let's highlight the factors that affect the cost of an apartment (number of rooms, floor, distance from the center, date of placement of the ad) and analyze whether they differ from the general conclusions for the entire database."
   ]
  },
  {
   "cell_type": "code",
   "execution_count": 37,
   "metadata": {},
   "outputs": [
    {
     "name": "stdout",
     "output_type": "stream",
     "text": [
      "0.7231798005740933\n"
     ]
    },
    {
     "data": {
      "text/plain": [
       "<AxesSubplot:xlabel='last_price', ylabel='total_area'>"
      ]
     },
     "execution_count": 37,
     "metadata": {},
     "output_type": "execute_result"
    },
    {
     "data": {
      "image/png": "[encoded data removed]",
      "text/plain": [
       "<Figure size 432x288 with 1 Axes>"
      ]
     },
     "metadata": {
      "needs_background": "light"
     },
     "output_type": "display_data"
    }
   ],
   "source": [
    "print(good_data['last_price'].corr(good_data['total_area']))\n",
    "good_data.plot(x='last_price', y='total_area', kind='scatter') "
   ]
  },
  {
   "cell_type": "markdown",
   "metadata": {},
   "source": [
    "The price correlation for St. Petersburg is very similar to the correlation for the entire sample, and is only slightly inferior to it. The correlation of these two indicators is quite high, that is, the larger the apartment, the higher the price."
   ]
  },
  {
   "cell_type": "code",
   "execution_count": 38,
   "metadata": {},
   "outputs": [
    {
     "name": "stdout",
     "output_type": "stream",
     "text": [
      "0.4439015690354848\n"
     ]
    },
    {
     "data": {
      "text/plain": [
       "<AxesSubplot:xlabel='last_price', ylabel='rooms'>"
      ]
     },
     "execution_count": 38,
     "metadata": {},
     "output_type": "execute_result"
    },
    {
     "data": {
      "image/png": "[encoded data removed]",
      "text/plain": [
       "<Figure size 432x288 with 1 Axes>"
      ]
     },
     "metadata": {
      "needs_background": "light"
     },
     "output_type": "display_data"
    }
   ],
   "source": [
    "print(good_data['last_price'].corr(good_data['rooms']))\n",
    "good_data.plot(x='last_price', y='rooms', kind='scatter') "
   ]
  },
  {
   "cell_type": "markdown",
   "metadata": {},
   "source": [
    "The correlation between price and number of rooms is average and similar to the overall sample."
   ]
  },
  {
   "cell_type": "code",
   "execution_count": 39,
   "metadata": {},
   "outputs": [
    {
     "name": "stdout",
     "output_type": "stream",
     "text": [
      "                median_price  sales_amount\n",
      "floor_category                            \n",
      "first                6225000           418\n",
      "last                 8600000           636\n",
      "other                8950000          2795\n"
     ]
    },
    {
     "data": {
      "text/plain": [
       "<AxesSubplot:xlabel='floor_category'>"
      ]
     },
     "execution_count": 39,
     "metadata": {},
     "output_type": "execute_result"
    },
    {
     "data": {
      "image/png": "[encoded data removed]",
      "text/plain": [
       "<Figure size 432x288 with 1 Axes>"
      ]
     },
     "metadata": {
      "needs_background": "light"
     },
     "output_type": "display_data"
    }
   ],
   "source": [
    "data_pivot = good_data.pivot_table(index='floor_category', values='last_price', aggfunc=['median', 'count'])\n",
    "data_pivot.columns = ['median_price', 'sales_amount']\n",
    "print(data_pivot)\n",
    "\n",
    "data_pivot.plot(y='median_price', kind = 'bar')"
   ]
  },
  {
   "cell_type": "markdown",
   "metadata": {},
   "source": [
    "In St. Petersburg, the last floors are valued equally with the middle ones, but the first one is also not held in high esteem as in the general sample"
   ]
  },
  {
   "cell_type": "code",
   "execution_count": 40,
   "metadata": {},
   "outputs": [
    {
     "name": "stdout",
     "output_type": "stream",
     "text": [
      "         median_price  sales_amount\n",
      "weekday                            \n",
      "0             8900000           582\n",
      "1             8400000           663\n",
      "2             8630000           664\n",
      "3             8500000           784\n",
      "4             8480000           640\n",
      "5             8150000           285\n",
      "6             8900000           231\n"
     ]
    },
    {
     "data": {
      "text/plain": [
       "<AxesSubplot:xlabel='weekday'>"
      ]
     },
     "execution_count": 40,
     "metadata": {},
     "output_type": "execute_result"
    },
    {
     "data": {
      "image/png": "[encoded data removed]",
      "text/plain": [
       "<Figure size 432x288 with 1 Axes>"
      ]
     },
     "metadata": {
      "needs_background": "light"
     },
     "output_type": "display_data"
    }
   ],
   "source": [
    "data_pivot = good_data.pivot_table(index='weekday', values='last_price', aggfunc=['median', 'count'])\n",
    "data_pivot.columns = ['median_price', 'sales_amount']\n",
    "print(data_pivot)\n",
    "\n",
    "data_pivot.plot(y='median_price', kind = 'bar')"
   ]
  },
  {
   "cell_type": "markdown",
   "metadata": {},
   "source": [
    "The day of the week practically does not affect the price of the apartment, as well as in the general sample."
   ]
  },
  {
   "cell_type": "code",
   "execution_count": 41,
   "metadata": {},
   "outputs": [
    {
     "name": "stdout",
     "output_type": "stream",
     "text": [
      "       median_price  sales_amount\n",
      "month                            \n",
      "1           8600000           236\n",
      "2           8500000           408\n",
      "3           8721680           411\n",
      "4           8400000           363\n",
      "5           8450000           225\n",
      "6           8499500           306\n",
      "7           8894444           310\n",
      "8           8600000           293\n",
      "9           9000000           347\n",
      "10          8300000           324\n",
      "11          8900000           373\n",
      "12          7500000           253\n"
     ]
    },
    {
     "data": {
      "text/plain": [
       "<AxesSubplot:xlabel='month'>"
      ]
     },
     "execution_count": 41,
     "metadata": {},
     "output_type": "execute_result"
    },
    {
     "data": {
      "image/png": "[encoded data removed]",
      "text/plain": [
       "<Figure size 432x288 with 1 Axes>"
      ]
     },
     "metadata": {
      "needs_background": "light"
     },
     "output_type": "display_data"
    }
   ],
   "source": [
    "data_pivot = good_data.pivot_table(index='month', values='last_price', aggfunc=['median', 'count'])\n",
    "data_pivot.columns = ['median_price', 'sales_amount']\n",
    "print(data_pivot)\n",
    "\n",
    "data_pivot.plot(y='median_price', kind = 'bar')"
   ]
  },
  {
   "cell_type": "markdown",
   "metadata": {},
   "source": [
    "In St. Petersburg, the cost of apartments throughout the year is approximately the same, except for December (prices are much lower in December), which differs from the general sample."
   ]
  },
  {
   "cell_type": "code",
   "execution_count": 42,
   "metadata": {},
   "outputs": [
    {
     "name": "stdout",
     "output_type": "stream",
     "text": [
      "                median_price  sales_amount\n",
      "year_published                            \n",
      "2014                13744000            29\n",
      "2015                 9000000           317\n",
      "2016                 8990000           529\n",
      "2017                 8500000          1362\n",
      "2018                 8370000          1191\n",
      "2019                 8700000           421\n"
     ]
    },
    {
     "data": {
      "text/plain": [
       "<AxesSubplot:xlabel='year_published'>"
      ]
     },
     "execution_count": 42,
     "metadata": {},
     "output_type": "execute_result"
    },
    {
     "data": {
      "image/png": "[encoded data removed]",
      "text/plain": [
       "<Figure size 432x288 with 1 Axes>"
      ]
     },
     "metadata": {
      "needs_background": "light"
     },
     "output_type": "display_data"
    }
   ],
   "source": [
    "data_pivot = good_data.pivot_table(index='year_published', values='last_price', aggfunc=['median', 'count'])\n",
    "data_pivot.columns = ['median_price', 'sales_amount']\n",
    "print(data_pivot)\n",
    "\n",
    "data_pivot.plot(y='median_price', kind = 'bar')"
   ]
  },
  {
   "cell_type": "markdown",
   "metadata": {},
   "source": [
    "We will not consider 2014, since the sample is too small and indicative, for all other years the price remained practically unchanged."
   ]
  },
  {
   "cell_type": "markdown",
   "metadata": {},
   "source": [
    "## General conclusion\n",
    "\n",
    "During the study, it turned out that users quite often do not indicate the height of the ceiling, most likely because they do not know or do not consider this an important indicator. Also, users do not consider it necessary to indicate that there are no balconies, which leads to the appearance of a huge number of NaN values, it may be worth giving the user a choice of options, and not the ability to enter it on their own, the same applies to options for the is_apartment pointer.\n",
    "\n",
    "In the course of the work, missing values were filled in, and the data type was changed where it was necessary for the study.\n",
    "\n",
    "As a result of the study, the following conclusions were drawn:\n",
    "- most of all apartments with an area of about 50 square meters, in St. Petersburg the most apartments with an area of 50-70 meters\n",
    "- the bulk of apartments worth up to 20 million, while in St. Petersburg apartments are on average more expensive.\n",
    "- the most common apartments are odnushki and dvushki, in St. Petersburg, more dvushki treshki are common\n",
    "- most often the ceiling height is 2.7 meters, but there are also quite a few objects with a height of 2.5-2.6, in St. Petersburg the height of the ceilings is on average higher than in the entire sample\n",
    "- there are a huge number of sales with a period of 45, 60, 7, 30 and 90 days, most likely the sale happened faster, but the seller or agent forgot or did not have time to remove the ad and it hung until the end of the placement period.\n",
    "- the maximum cost per square meter, as expected in St. Petersburg, followed by Pushkin and the village of Kudrovo, while Vyborg is in last 10th place in the top.\n",
    "- The center of St. Petersburg can be considered a circle with a radius of 8 kilometers, here the cost of real estate is very different (higher) from objects located further, then prices decrease less sharply with distance from the center.\n",
    "\n",
    "Based on the entire sample, the cost of an apartment depends very much on the total area, less on the number of rooms, and whether it is the first / last floor or the middle one, in St. Petersburg the situation is similar, except that in St. Petersburg the last floors are valued a little more than in the whole sample. Also, there is not a strong dependence of the cost on the distance from the center. And it doesn’t matter at all what day of the week or month the ad was posted, except that in May-June prices are falling, most likely due to low demand, while if we consider St. Petersburg, then the period of low demand is December.\n",
    "\n",
    "As a result of the work, many anomalies in the data were revealed, and in almost every indicator, for example, there are exorbitant values of total_area, last_price, rooms, ceiling_height. Anomalies were either normalized or filtered for data analysis. Usually fraud is done in the area of price, and the distribution diagram shows that the price per square meter over 200,000 is an anomaly. When studying an object, I would advise you to rely on the average value of the cost per square meter for the settlement, as a guideline, for example, in St. for 200,000 raise questions.\n",
    "\n",
    "At the same time, it must be remembered that the price per square meter of one room apartment will differ from the price per square meter of two rooms apartments, the price for an apartment in the center will differ from the price for an apartment on the outskirts, and the average price should be used only as a guide when studying a particular object."
   ]
  }
 ],
 "metadata": {
  "ExecuteTimeLog": [
   {
    "duration": 612,
    "start_time": "2022-02-18T16:15:33.673Z"
   },
   {
    "duration": 78,
    "start_time": "2022-02-18T16:15:56.156Z"
   },
   {
    "duration": 91,
    "start_time": "2022-02-18T16:16:03.951Z"
   },
   {
    "duration": 12,
    "start_time": "2022-02-18T16:16:38.311Z"
   },
   {
    "duration": 6,
    "start_time": "2022-02-18T16:17:21.091Z"
   },
   {
    "duration": 97,
    "start_time": "2022-02-18T16:18:15.433Z"
   },
   {
    "duration": 7,
    "start_time": "2022-02-18T16:20:20.480Z"
   },
   {
    "duration": 7,
    "start_time": "2022-02-18T16:20:40.555Z"
   },
   {
    "duration": 3546,
    "start_time": "2022-02-18T16:21:27.712Z"
   },
   {
    "duration": 3280,
    "start_time": "2022-02-18T16:22:04.379Z"
   },
   {
    "duration": 42,
    "start_time": "2022-02-18T16:22:31.031Z"
   },
   {
    "duration": 45,
    "start_time": "2022-02-18T16:29:58.207Z"
   },
   {
    "duration": 8,
    "start_time": "2022-02-18T17:09:33.888Z"
   },
   {
    "duration": 10,
    "start_time": "2022-02-18T17:10:04.256Z"
   },
   {
    "duration": 10,
    "start_time": "2022-02-18T17:10:29.377Z"
   },
   {
    "duration": 154,
    "start_time": "2022-02-18T17:12:43.226Z"
   },
   {
    "duration": 131,
    "start_time": "2022-02-18T17:12:47.889Z"
   },
   {
    "duration": 34,
    "start_time": "2022-02-18T17:12:59.099Z"
   },
   {
    "duration": 150,
    "start_time": "2022-02-18T17:13:29.593Z"
   },
   {
    "duration": 35,
    "start_time": "2022-02-18T17:13:36.712Z"
   },
   {
    "duration": 10,
    "start_time": "2022-02-18T17:17:30.615Z"
   },
   {
    "duration": 34,
    "start_time": "2022-02-18T17:18:05.220Z"
   },
   {
    "duration": 13,
    "start_time": "2022-02-18T17:18:27.067Z"
   },
   {
    "duration": 85,
    "start_time": "2022-02-18T17:20:14.277Z"
   },
   {
    "duration": 169,
    "start_time": "2022-02-21T14:06:03.555Z"
   },
   {
    "duration": 124,
    "start_time": "2022-02-21T14:06:11.396Z"
   },
   {
    "duration": 661,
    "start_time": "2022-02-21T14:06:22.298Z"
   },
   {
    "duration": 14,
    "start_time": "2022-02-21T14:06:22.961Z"
   },
   {
    "duration": 13,
    "start_time": "2022-02-21T14:06:22.977Z"
   },
   {
    "duration": 37,
    "start_time": "2022-02-21T14:06:22.992Z"
   },
   {
    "duration": 48,
    "start_time": "2022-02-21T14:09:25.976Z"
   },
   {
    "duration": 11,
    "start_time": "2022-02-21T15:15:28.069Z"
   },
   {
    "duration": 7,
    "start_time": "2022-02-21T15:15:50.875Z"
   },
   {
    "duration": 9,
    "start_time": "2022-02-21T15:16:27.812Z"
   },
   {
    "duration": 9,
    "start_time": "2022-02-21T15:16:40.994Z"
   },
   {
    "duration": 35,
    "start_time": "2022-02-21T15:18:04.267Z"
   },
   {
    "duration": 38,
    "start_time": "2022-02-21T15:29:35.092Z"
   },
   {
    "duration": 438,
    "start_time": "2022-02-21T16:10:00.980Z"
   },
   {
    "duration": 979,
    "start_time": "2022-02-21T16:10:10.696Z"
   },
   {
    "duration": 17,
    "start_time": "2022-02-21T16:10:11.678Z"
   },
   {
    "duration": 27,
    "start_time": "2022-02-21T16:10:11.698Z"
   },
   {
    "duration": 96,
    "start_time": "2022-02-21T16:10:11.728Z"
   },
   {
    "duration": 11,
    "start_time": "2022-02-21T16:10:11.827Z"
   },
   {
    "duration": 80,
    "start_time": "2022-02-21T16:10:11.840Z"
   },
   {
    "duration": 13,
    "start_time": "2022-02-21T16:10:11.923Z"
   },
   {
    "duration": 12,
    "start_time": "2022-02-21T16:22:53.518Z"
   },
   {
    "duration": 14,
    "start_time": "2022-02-21T16:23:18.540Z"
   },
   {
    "duration": 9,
    "start_time": "2022-02-21T16:25:00.882Z"
   },
   {
    "duration": 14,
    "start_time": "2022-02-21T16:25:04.121Z"
   },
   {
    "duration": 5,
    "start_time": "2022-02-21T16:25:51.823Z"
   },
   {
    "duration": 16,
    "start_time": "2022-02-21T16:25:54.595Z"
   },
   {
    "duration": 9,
    "start_time": "2022-02-21T16:27:14.207Z"
   },
   {
    "duration": 17,
    "start_time": "2022-02-21T16:27:16.533Z"
   },
   {
    "duration": 15,
    "start_time": "2022-02-21T16:27:59.971Z"
   },
   {
    "duration": 9,
    "start_time": "2022-02-21T16:28:32.634Z"
   },
   {
    "duration": 9,
    "start_time": "2022-02-21T16:28:58.894Z"
   },
   {
    "duration": 868,
    "start_time": "2022-02-21T16:29:53.299Z"
   },
   {
    "duration": 68,
    "start_time": "2022-02-21T16:30:03.061Z"
   },
   {
    "duration": 57,
    "start_time": "2022-02-21T16:41:58.312Z"
   },
   {
    "duration": 9,
    "start_time": "2022-02-21T16:43:04.915Z"
   },
   {
    "duration": 12,
    "start_time": "2022-02-21T16:43:14.545Z"
   },
   {
    "duration": 64,
    "start_time": "2022-02-21T16:43:57.669Z"
   },
   {
    "duration": 11,
    "start_time": "2022-02-21T16:44:20.478Z"
   },
   {
    "duration": 9,
    "start_time": "2022-02-21T16:47:32.558Z"
   },
   {
    "duration": 10,
    "start_time": "2022-02-21T16:47:39.899Z"
   },
   {
    "duration": 11,
    "start_time": "2022-02-21T16:47:54.381Z"
   },
   {
    "duration": 14,
    "start_time": "2022-02-21T16:48:34.443Z"
   },
   {
    "duration": 8,
    "start_time": "2022-02-21T16:49:48.429Z"
   },
   {
    "duration": 4158,
    "start_time": "2022-02-21T16:49:55.241Z"
   },
   {
    "duration": 330,
    "start_time": "2022-02-21T16:50:15.994Z"
   },
   {
    "duration": 914,
    "start_time": "2022-02-21T16:50:30.558Z"
   },
   {
    "duration": 18,
    "start_time": "2022-02-21T16:50:31.475Z"
   },
   {
    "duration": 14,
    "start_time": "2022-02-21T16:50:31.512Z"
   },
   {
    "duration": 511,
    "start_time": "2022-02-21T16:50:31.530Z"
   },
   {
    "duration": 12,
    "start_time": "2022-02-21T16:50:32.031Z"
   },
   {
    "duration": 3,
    "start_time": "2022-02-21T16:50:32.042Z"
   },
   {
    "duration": -17,
    "start_time": "2022-02-21T16:50:32.064Z"
   },
   {
    "duration": -24,
    "start_time": "2022-02-21T16:50:32.072Z"
   },
   {
    "duration": -29,
    "start_time": "2022-02-21T16:50:32.079Z"
   },
   {
    "duration": 854,
    "start_time": "2022-02-21T16:51:03.661Z"
   },
   {
    "duration": 19,
    "start_time": "2022-02-21T16:51:04.519Z"
   },
   {
    "duration": 17,
    "start_time": "2022-02-21T16:51:04.542Z"
   },
   {
    "duration": 53,
    "start_time": "2022-02-21T16:51:04.562Z"
   },
   {
    "duration": 12,
    "start_time": "2022-02-21T16:51:04.618Z"
   },
   {
    "duration": 96,
    "start_time": "2022-02-21T16:51:04.633Z"
   },
   {
    "duration": 11,
    "start_time": "2022-02-21T16:51:04.732Z"
   },
   {
    "duration": 79,
    "start_time": "2022-02-21T16:51:04.746Z"
   },
   {
    "duration": 11,
    "start_time": "2022-02-21T16:51:04.827Z"
   },
   {
    "duration": 13,
    "start_time": "2022-02-21T16:51:19.005Z"
   },
   {
    "duration": 9,
    "start_time": "2022-02-21T16:55:29.935Z"
   },
   {
    "duration": 15,
    "start_time": "2022-02-21T16:55:42.404Z"
   },
   {
    "duration": 876,
    "start_time": "2022-02-21T16:56:01.855Z"
   },
   {
    "duration": 16,
    "start_time": "2022-02-21T16:56:02.734Z"
   },
   {
    "duration": 8,
    "start_time": "2022-02-21T16:56:02.754Z"
   },
   {
    "duration": 14,
    "start_time": "2022-02-21T16:56:02.765Z"
   },
   {
    "duration": 10,
    "start_time": "2022-02-21T16:56:02.810Z"
   },
   {
    "duration": 104,
    "start_time": "2022-02-21T16:56:02.823Z"
   },
   {
    "duration": 14,
    "start_time": "2022-02-21T16:56:02.930Z"
   },
   {
    "duration": 81,
    "start_time": "2022-02-21T16:56:02.947Z"
   },
   {
    "duration": 13,
    "start_time": "2022-02-21T16:56:03.031Z"
   },
   {
    "duration": 11,
    "start_time": "2022-02-21T16:56:47.615Z"
   },
   {
    "duration": 27,
    "start_time": "2022-02-21T16:58:48.118Z"
   },
   {
    "duration": 158,
    "start_time": "2022-02-21T17:00:32.393Z"
   },
   {
    "duration": 45,
    "start_time": "2022-02-21T17:00:42.866Z"
   },
   {
    "duration": 3,
    "start_time": "2022-02-21T17:01:04.218Z"
   },
   {
    "duration": 82,
    "start_time": "2022-02-21T17:01:17.888Z"
   },
   {
    "duration": 73,
    "start_time": "2022-02-21T17:01:36.110Z"
   },
   {
    "duration": 11,
    "start_time": "2022-02-21T17:07:12.768Z"
   },
   {
    "duration": 12,
    "start_time": "2022-02-21T17:07:36.105Z"
   },
   {
    "duration": 15,
    "start_time": "2022-02-21T17:07:57.417Z"
   },
   {
    "duration": 17,
    "start_time": "2022-02-21T17:08:14.682Z"
   },
   {
    "duration": 11,
    "start_time": "2022-02-21T17:08:43.782Z"
   },
   {
    "duration": 15,
    "start_time": "2022-02-21T17:08:53.820Z"
   },
   {
    "duration": 914,
    "start_time": "2022-02-21T17:10:56.820Z"
   },
   {
    "duration": 17,
    "start_time": "2022-02-21T17:10:57.736Z"
   },
   {
    "duration": 10,
    "start_time": "2022-02-21T17:10:57.756Z"
   },
   {
    "duration": 51,
    "start_time": "2022-02-21T17:10:57.771Z"
   },
   {
    "duration": 3,
    "start_time": "2022-02-21T17:10:57.826Z"
   },
   {
    "duration": 15,
    "start_time": "2022-02-21T17:10:57.832Z"
   },
   {
    "duration": 84,
    "start_time": "2022-02-21T17:10:57.850Z"
   },
   {
    "duration": 14,
    "start_time": "2022-02-21T17:10:57.939Z"
   },
   {
    "duration": 11,
    "start_time": "2022-02-21T17:12:59.817Z"
   },
   {
    "duration": 15,
    "start_time": "2022-02-21T17:13:03.450Z"
   },
   {
    "duration": 16,
    "start_time": "2022-02-21T17:13:26.532Z"
   },
   {
    "duration": 15,
    "start_time": "2022-02-21T17:13:29.292Z"
   },
   {
    "duration": 57,
    "start_time": "2022-02-21T17:13:57.556Z"
   },
   {
    "duration": 75,
    "start_time": "2022-02-21T17:15:33.846Z"
   },
   {
    "duration": 6,
    "start_time": "2022-02-21T17:19:38.534Z"
   },
   {
    "duration": 17,
    "start_time": "2022-02-21T17:20:01.519Z"
   },
   {
    "duration": 15,
    "start_time": "2022-02-21T17:20:04.355Z"
   },
   {
    "duration": 11,
    "start_time": "2022-02-21T17:24:05.898Z"
   },
   {
    "duration": 6,
    "start_time": "2022-02-21T17:24:21.936Z"
   },
   {
    "duration": 5,
    "start_time": "2022-02-21T17:25:20.994Z"
   },
   {
    "duration": 5,
    "start_time": "2022-02-21T17:25:27.271Z"
   },
   {
    "duration": 7,
    "start_time": "2022-02-21T17:25:31.381Z"
   },
   {
    "duration": 18,
    "start_time": "2022-02-21T17:25:34.508Z"
   },
   {
    "duration": 20,
    "start_time": "2022-02-21T17:25:39.719Z"
   },
   {
    "duration": 26,
    "start_time": "2022-02-21T17:31:47.333Z"
   },
   {
    "duration": 15,
    "start_time": "2022-02-21T17:31:53.272Z"
   },
   {
    "duration": 665,
    "start_time": "2022-02-22T14:46:08.781Z"
   },
   {
    "duration": 12,
    "start_time": "2022-02-22T14:46:09.448Z"
   },
   {
    "duration": 26,
    "start_time": "2022-02-22T14:46:09.462Z"
   },
   {
    "duration": 38,
    "start_time": "2022-02-22T14:46:09.490Z"
   },
   {
    "duration": 3,
    "start_time": "2022-02-22T14:46:09.531Z"
   },
   {
    "duration": 24,
    "start_time": "2022-02-22T14:46:09.535Z"
   },
   {
    "duration": 25,
    "start_time": "2022-02-22T14:46:09.560Z"
   },
   {
    "duration": 9,
    "start_time": "2022-02-22T14:46:09.587Z"
   },
   {
    "duration": 23,
    "start_time": "2022-02-22T14:53:57.433Z"
   },
   {
    "duration": 15,
    "start_time": "2022-02-22T14:53:58.945Z"
   },
   {
    "duration": 28,
    "start_time": "2022-02-22T14:57:18.518Z"
   },
   {
    "duration": 675,
    "start_time": "2022-02-22T15:00:00.827Z"
   },
   {
    "duration": 37,
    "start_time": "2022-02-22T15:01:07.822Z"
   },
   {
    "duration": 37,
    "start_time": "2022-02-22T15:02:52.552Z"
   },
   {
    "duration": 12,
    "start_time": "2022-02-22T15:02:55.863Z"
   },
   {
    "duration": 23,
    "start_time": "2022-02-22T15:03:44.163Z"
   },
   {
    "duration": 90,
    "start_time": "2022-02-22T15:04:10.365Z"
   },
   {
    "duration": 11,
    "start_time": "2022-02-22T15:04:16.202Z"
   },
   {
    "duration": 30,
    "start_time": "2022-02-22T15:04:50.438Z"
   },
   {
    "duration": 12,
    "start_time": "2022-02-22T15:04:53.924Z"
   },
   {
    "duration": 24,
    "start_time": "2022-02-22T15:04:57.427Z"
   },
   {
    "duration": 30,
    "start_time": "2022-02-22T15:07:34.552Z"
   },
   {
    "duration": 322,
    "start_time": "2022-02-22T15:17:31.816Z"
   },
   {
    "duration": 4,
    "start_time": "2022-02-22T15:18:37.083Z"
   },
   {
    "duration": 10,
    "start_time": "2022-02-22T15:18:43.605Z"
   },
   {
    "duration": 233,
    "start_time": "2022-02-22T15:18:51.734Z"
   },
   {
    "duration": 4,
    "start_time": "2022-02-22T15:19:38.006Z"
   },
   {
    "duration": 12,
    "start_time": "2022-02-22T15:19:39.959Z"
   },
   {
    "duration": 343,
    "start_time": "2022-02-22T15:19:55.508Z"
   },
   {
    "duration": 7,
    "start_time": "2022-02-22T15:21:12.399Z"
   },
   {
    "duration": 6,
    "start_time": "2022-02-22T15:21:21.581Z"
   },
   {
    "duration": 51,
    "start_time": "2022-02-22T15:21:29.206Z"
   },
   {
    "duration": 262,
    "start_time": "2022-02-22T15:25:20.191Z"
   },
   {
    "duration": 231,
    "start_time": "2022-02-22T15:28:07.160Z"
   },
   {
    "duration": 237,
    "start_time": "2022-02-22T15:29:16.350Z"
   },
   {
    "duration": 264,
    "start_time": "2022-02-22T15:29:30.111Z"
   },
   {
    "duration": 26,
    "start_time": "2022-02-22T15:29:42.317Z"
   },
   {
    "duration": 11,
    "start_time": "2022-02-22T15:29:46.672Z"
   },
   {
    "duration": 1887,
    "start_time": "2022-02-22T15:30:23.165Z"
   },
   {
    "duration": 42,
    "start_time": "2022-02-22T15:31:27.005Z"
   },
   {
    "duration": 7,
    "start_time": "2022-02-22T15:32:06.377Z"
   },
   {
    "duration": 6,
    "start_time": "2022-02-22T15:32:24.536Z"
   },
   {
    "duration": 5,
    "start_time": "2022-02-22T15:32:44.768Z"
   },
   {
    "duration": 5,
    "start_time": "2022-02-22T15:32:51.075Z"
   },
   {
    "duration": 5,
    "start_time": "2022-02-22T15:33:54.370Z"
   },
   {
    "duration": 7,
    "start_time": "2022-02-22T15:34:11.961Z"
   },
   {
    "duration": 8,
    "start_time": "2022-02-22T15:34:24.424Z"
   },
   {
    "duration": 7,
    "start_time": "2022-02-22T15:34:40.873Z"
   },
   {
    "duration": 7,
    "start_time": "2022-02-22T15:34:49.650Z"
   },
   {
    "duration": 8,
    "start_time": "2022-02-22T15:34:58.262Z"
   },
   {
    "duration": 224,
    "start_time": "2022-02-22T15:51:14.572Z"
   },
   {
    "duration": 11,
    "start_time": "2022-02-22T15:54:23.248Z"
   },
   {
    "duration": 7,
    "start_time": "2022-02-22T15:54:56.223Z"
   },
   {
    "duration": 26,
    "start_time": "2022-02-22T15:55:18.759Z"
   },
   {
    "duration": 234,
    "start_time": "2022-02-22T15:55:49.846Z"
   },
   {
    "duration": 27,
    "start_time": "2022-02-22T15:56:43.334Z"
   },
   {
    "duration": 30,
    "start_time": "2022-02-22T15:56:48.054Z"
   },
   {
    "duration": 20,
    "start_time": "2022-02-22T15:57:00.172Z"
   },
   {
    "duration": 14,
    "start_time": "2022-02-22T15:57:09.833Z"
   },
   {
    "duration": 12,
    "start_time": "2022-02-22T15:58:22.475Z"
   },
   {
    "duration": 11,
    "start_time": "2022-02-22T15:58:24.905Z"
   },
   {
    "duration": 233,
    "start_time": "2022-02-22T16:09:24.995Z"
   },
   {
    "duration": 7,
    "start_time": "2022-02-22T16:12:12.333Z"
   },
   {
    "duration": 10,
    "start_time": "2022-02-22T16:12:18.396Z"
   },
   {
    "duration": 32,
    "start_time": "2022-02-22T16:12:35.043Z"
   },
   {
    "duration": 26,
    "start_time": "2022-02-22T16:16:01.624Z"
   },
   {
    "duration": 36,
    "start_time": "2022-02-22T16:16:06.296Z"
   },
   {
    "duration": 1144,
    "start_time": "2022-02-22T16:16:38.653Z"
   },
   {
    "duration": 711,
    "start_time": "2022-02-22T16:17:31.631Z"
   },
   {
    "duration": 11,
    "start_time": "2022-02-22T16:17:32.344Z"
   },
   {
    "duration": 30,
    "start_time": "2022-02-22T16:17:32.357Z"
   },
   {
    "duration": 62,
    "start_time": "2022-02-22T16:17:32.389Z"
   },
   {
    "duration": 74,
    "start_time": "2022-02-22T16:17:32.452Z"
   },
   {
    "duration": -161,
    "start_time": "2022-02-22T16:17:32.688Z"
   },
   {
    "duration": -169,
    "start_time": "2022-02-22T16:17:32.698Z"
   },
   {
    "duration": -178,
    "start_time": "2022-02-22T16:17:32.708Z"
   },
   {
    "duration": -185,
    "start_time": "2022-02-22T16:17:32.716Z"
   },
   {
    "duration": 16,
    "start_time": "2022-02-22T16:18:10.932Z"
   },
   {
    "duration": 7,
    "start_time": "2022-02-22T16:18:13.604Z"
   },
   {
    "duration": 38,
    "start_time": "2022-02-22T16:18:15.706Z"
   },
   {
    "duration": 10,
    "start_time": "2022-02-22T16:20:04.932Z"
   },
   {
    "duration": 35,
    "start_time": "2022-02-22T16:20:15.501Z"
   },
   {
    "duration": 9,
    "start_time": "2022-02-22T16:21:40.946Z"
   },
   {
    "duration": 30,
    "start_time": "2022-02-22T16:21:43.983Z"
   },
   {
    "duration": 4,
    "start_time": "2022-02-22T16:24:20.172Z"
   },
   {
    "duration": 40,
    "start_time": "2022-02-22T16:24:27.600Z"
   },
   {
    "duration": 24,
    "start_time": "2022-02-22T16:24:54.250Z"
   },
   {
    "duration": 32,
    "start_time": "2022-02-22T16:26:45.465Z"
   },
   {
    "duration": 38,
    "start_time": "2022-02-22T16:28:02.799Z"
   },
   {
    "duration": 37,
    "start_time": "2022-02-22T16:28:54.797Z"
   },
   {
    "duration": 790,
    "start_time": "2022-02-22T16:29:05.136Z"
   },
   {
    "duration": 14,
    "start_time": "2022-02-22T16:29:05.931Z"
   },
   {
    "duration": 33,
    "start_time": "2022-02-22T16:29:05.947Z"
   },
   {
    "duration": 58,
    "start_time": "2022-02-22T16:29:05.983Z"
   },
   {
    "duration": 19,
    "start_time": "2022-02-22T16:29:06.043Z"
   },
   {
    "duration": 31,
    "start_time": "2022-02-22T16:29:06.064Z"
   },
   {
    "duration": 62,
    "start_time": "2022-02-22T16:29:06.097Z"
   },
   {
    "duration": 14,
    "start_time": "2022-02-22T16:29:06.162Z"
   },
   {
    "duration": 9,
    "start_time": "2022-02-22T16:29:06.178Z"
   },
   {
    "duration": 584,
    "start_time": "2022-02-22T16:31:37.473Z"
   },
   {
    "duration": 79,
    "start_time": "2022-02-22T16:31:53.935Z"
   },
   {
    "duration": 62,
    "start_time": "2022-02-22T16:32:03.983Z"
   },
   {
    "duration": 30,
    "start_time": "2022-02-22T16:32:49.912Z"
   },
   {
    "duration": 30,
    "start_time": "2022-02-22T16:32:52.746Z"
   },
   {
    "duration": 12,
    "start_time": "2022-02-22T16:33:18.172Z"
   },
   {
    "duration": 38,
    "start_time": "2022-02-22T16:33:20.608Z"
   },
   {
    "duration": 1070,
    "start_time": "2022-02-22T16:40:51.408Z"
   },
   {
    "duration": 82,
    "start_time": "2022-02-22T16:49:12.689Z"
   },
   {
    "duration": 529,
    "start_time": "2022-02-22T16:49:24.804Z"
   },
   {
    "duration": 30,
    "start_time": "2022-02-22T16:53:09.855Z"
   },
   {
    "duration": 971,
    "start_time": "2022-02-23T12:43:33.079Z"
   },
   {
    "duration": 18,
    "start_time": "2022-02-23T12:43:34.052Z"
   },
   {
    "duration": 63,
    "start_time": "2022-02-23T12:43:34.074Z"
   },
   {
    "duration": 64,
    "start_time": "2022-02-23T12:43:34.140Z"
   },
   {
    "duration": 26,
    "start_time": "2022-02-23T12:43:34.206Z"
   },
   {
    "duration": 71,
    "start_time": "2022-02-23T12:43:34.235Z"
   },
   {
    "duration": 869,
    "start_time": "2022-02-23T12:43:34.309Z"
   },
   {
    "duration": 20,
    "start_time": "2022-02-23T12:43:35.181Z"
   },
   {
    "duration": 11,
    "start_time": "2022-02-23T12:43:35.204Z"
   },
   {
    "duration": 49,
    "start_time": "2022-02-23T12:43:58.762Z"
   },
   {
    "duration": -229,
    "start_time": "2022-02-23T12:47:15.956Z"
   },
   {
    "duration": 408,
    "start_time": "2022-02-23T12:47:26.318Z"
   },
   {
    "duration": 436,
    "start_time": "2022-02-23T12:48:26.547Z"
   },
   {
    "duration": 291,
    "start_time": "2022-02-23T12:48:38.869Z"
   },
   {
    "duration": 312,
    "start_time": "2022-02-23T12:48:56.184Z"
   },
   {
    "duration": 307,
    "start_time": "2022-02-23T12:49:00.732Z"
   },
   {
    "duration": 278,
    "start_time": "2022-02-23T12:49:09.258Z"
   },
   {
    "duration": 551,
    "start_time": "2022-02-23T12:50:43.850Z"
   },
   {
    "duration": 278,
    "start_time": "2022-02-23T12:50:56.022Z"
   },
   {
    "duration": 261,
    "start_time": "2022-02-23T12:51:04.318Z"
   },
   {
    "duration": 254,
    "start_time": "2022-02-23T12:51:15.513Z"
   },
   {
    "duration": 262,
    "start_time": "2022-02-23T12:51:22.186Z"
   },
   {
    "duration": 457,
    "start_time": "2022-02-23T12:51:39.093Z"
   },
   {
    "duration": 7,
    "start_time": "2022-02-23T12:54:28.362Z"
   },
   {
    "duration": 49,
    "start_time": "2022-02-23T12:54:54.048Z"
   },
   {
    "duration": 230,
    "start_time": "2022-02-23T12:56:08.046Z"
   },
   {
    "duration": 527,
    "start_time": "2022-02-23T13:04:26.615Z"
   },
   {
    "duration": 436,
    "start_time": "2022-02-23T13:04:40.337Z"
   },
   {
    "duration": 425,
    "start_time": "2022-02-23T13:04:55.591Z"
   },
   {
    "duration": 404,
    "start_time": "2022-02-23T13:05:10.927Z"
   },
   {
    "duration": 424,
    "start_time": "2022-02-23T13:05:39.845Z"
   },
   {
    "duration": 424,
    "start_time": "2022-02-23T13:05:57.642Z"
   },
   {
    "duration": 413,
    "start_time": "2022-02-23T13:06:05.252Z"
   },
   {
    "duration": 416,
    "start_time": "2022-02-23T13:06:15.285Z"
   },
   {
    "duration": 659,
    "start_time": "2022-02-23T13:13:12.663Z"
   },
   {
    "duration": 565,
    "start_time": "2022-02-23T13:13:33.131Z"
   },
   {
    "duration": 431,
    "start_time": "2022-02-23T13:29:36.978Z"
   },
   {
    "duration": 471,
    "start_time": "2022-02-23T13:30:57.304Z"
   },
   {
    "duration": 813,
    "start_time": "2022-02-23T13:36:16.866Z"
   },
   {
    "duration": 28,
    "start_time": "2022-02-23T13:37:24.551Z"
   },
   {
    "duration": 72,
    "start_time": "2022-02-23T13:37:37.646Z"
   },
   {
    "duration": 9,
    "start_time": "2022-02-23T13:38:32.776Z"
   },
   {
    "duration": 32,
    "start_time": "2022-02-23T13:38:45.154Z"
   },
   {
    "duration": 15,
    "start_time": "2022-02-23T13:39:49.718Z"
   },
   {
    "duration": 507,
    "start_time": "2022-02-23T13:40:05.161Z"
   },
   {
    "duration": 570,
    "start_time": "2022-02-23T13:40:46.168Z"
   },
   {
    "duration": 8,
    "start_time": "2022-02-23T13:41:01.205Z"
   },
   {
    "duration": 52,
    "start_time": "2022-02-23T13:50:02.671Z"
   },
   {
    "duration": 57,
    "start_time": "2022-02-23T13:50:08.124Z"
   },
   {
    "duration": 127,
    "start_time": "2022-02-23T13:53:10.323Z"
   },
   {
    "duration": 441,
    "start_time": "2022-02-23T13:57:10.039Z"
   },
   {
    "duration": 520,
    "start_time": "2022-02-23T13:57:20.210Z"
   },
   {
    "duration": 46,
    "start_time": "2022-02-23T14:04:12.277Z"
   },
   {
    "duration": 578,
    "start_time": "2022-02-23T14:05:29.051Z"
   },
   {
    "duration": 7,
    "start_time": "2022-02-23T14:06:04.626Z"
   },
   {
    "duration": 6,
    "start_time": "2022-02-23T14:06:06.487Z"
   },
   {
    "duration": 450,
    "start_time": "2022-02-23T14:13:12.991Z"
   },
   {
    "duration": 444,
    "start_time": "2022-02-23T14:14:06.613Z"
   },
   {
    "duration": 428,
    "start_time": "2022-02-23T14:14:17.700Z"
   },
   {
    "duration": 603,
    "start_time": "2022-02-23T14:14:55.305Z"
   },
   {
    "duration": 622,
    "start_time": "2022-02-23T14:15:56.719Z"
   },
   {
    "duration": 439,
    "start_time": "2022-02-23T14:16:01.228Z"
   },
   {
    "duration": 912,
    "start_time": "2022-02-23T14:16:29.892Z"
   },
   {
    "duration": 443,
    "start_time": "2022-02-23T14:16:35.534Z"
   },
   {
    "duration": 422,
    "start_time": "2022-02-23T14:16:47.856Z"
   },
   {
    "duration": 803,
    "start_time": "2022-02-23T14:17:56.274Z"
   },
   {
    "duration": 595,
    "start_time": "2022-02-23T14:18:05.782Z"
   },
   {
    "duration": 245,
    "start_time": "2022-02-23T14:18:59.682Z"
   },
   {
    "duration": 9,
    "start_time": "2022-02-23T14:20:59.678Z"
   },
   {
    "duration": 950,
    "start_time": "2022-02-23T14:21:54.026Z"
   },
   {
    "duration": 24,
    "start_time": "2022-02-23T14:21:54.978Z"
   },
   {
    "duration": 49,
    "start_time": "2022-02-23T14:21:55.005Z"
   },
   {
    "duration": 69,
    "start_time": "2022-02-23T14:21:55.057Z"
   },
   {
    "duration": 25,
    "start_time": "2022-02-23T14:21:55.129Z"
   },
   {
    "duration": 64,
    "start_time": "2022-02-23T14:21:55.157Z"
   },
   {
    "duration": 812,
    "start_time": "2022-02-23T14:21:55.224Z"
   },
   {
    "duration": 36,
    "start_time": "2022-02-23T14:21:56.040Z"
   },
   {
    "duration": 464,
    "start_time": "2022-02-23T14:21:56.078Z"
   },
   {
    "duration": 477,
    "start_time": "2022-02-23T14:21:56.544Z"
   },
   {
    "duration": 466,
    "start_time": "2022-02-23T14:21:57.023Z"
   },
   {
    "duration": 443,
    "start_time": "2022-02-23T14:21:57.494Z"
   },
   {
    "duration": 687,
    "start_time": "2022-02-23T14:21:57.940Z"
   },
   {
    "duration": 8,
    "start_time": "2022-02-23T14:21:58.631Z"
   },
   {
    "duration": 8,
    "start_time": "2022-02-23T14:21:58.642Z"
   },
   {
    "duration": 378,
    "start_time": "2022-02-23T14:21:58.653Z"
   },
   {
    "duration": 9,
    "start_time": "2022-02-23T14:21:59.033Z"
   },
   {
    "duration": 14,
    "start_time": "2022-02-23T14:21:59.045Z"
   },
   {
    "duration": 41,
    "start_time": "2022-02-23T14:21:59.062Z"
   },
   {
    "duration": 765,
    "start_time": "2022-02-23T14:23:08.680Z"
   },
   {
    "duration": 624,
    "start_time": "2022-02-23T14:23:40.480Z"
   },
   {
    "duration": 659,
    "start_time": "2022-02-23T14:23:49.647Z"
   },
   {
    "duration": 571,
    "start_time": "2022-02-23T14:24:06.411Z"
   },
   {
    "duration": 245,
    "start_time": "2022-02-23T14:32:18.174Z"
   },
   {
    "duration": 7,
    "start_time": "2022-02-23T14:32:56.517Z"
   },
   {
    "duration": 2211,
    "start_time": "2022-02-23T14:37:12.952Z"
   },
   {
    "duration": 1953,
    "start_time": "2022-02-23T14:38:00.892Z"
   },
   {
    "duration": 1864,
    "start_time": "2022-02-23T14:38:31.499Z"
   },
   {
    "duration": 69,
    "start_time": "2022-02-23T14:39:36.197Z"
   },
   {
    "duration": 12,
    "start_time": "2022-02-23T14:40:01.779Z"
   },
   {
    "duration": 12,
    "start_time": "2022-02-23T14:40:16.451Z"
   },
   {
    "duration": 13,
    "start_time": "2022-02-23T14:43:06.658Z"
   },
   {
    "duration": 11,
    "start_time": "2022-02-23T14:43:17.134Z"
   },
   {
    "duration": 239,
    "start_time": "2022-02-23T14:44:30.623Z"
   },
   {
    "duration": 131,
    "start_time": "2022-02-23T14:49:40.570Z"
   },
   {
    "duration": 12,
    "start_time": "2022-02-23T14:49:54.871Z"
   },
   {
    "duration": 8,
    "start_time": "2022-02-23T14:50:08.509Z"
   },
   {
    "duration": 702,
    "start_time": "2022-02-23T14:53:25.434Z"
   },
   {
    "duration": 8,
    "start_time": "2022-02-23T14:55:12.354Z"
   },
   {
    "duration": 869,
    "start_time": "2022-02-23T14:55:34.873Z"
   },
   {
    "duration": 1074,
    "start_time": "2022-02-23T14:55:55.160Z"
   },
   {
    "duration": 1105,
    "start_time": "2022-02-23T14:56:03.856Z"
   },
   {
    "duration": 1434,
    "start_time": "2022-02-23T14:57:03.878Z"
   },
   {
    "duration": 11,
    "start_time": "2022-02-23T15:03:38.500Z"
   },
   {
    "duration": 9,
    "start_time": "2022-02-23T15:12:23.338Z"
   },
   {
    "duration": 246,
    "start_time": "2022-02-23T15:19:40.078Z"
   },
   {
    "duration": 767,
    "start_time": "2022-02-23T16:09:42.376Z"
   },
   {
    "duration": 10408,
    "start_time": "2022-02-23T16:10:43.214Z"
   },
   {
    "duration": 882,
    "start_time": "2022-02-23T16:10:58.388Z"
   },
   {
    "duration": 482,
    "start_time": "2022-02-23T16:12:20.637Z"
   },
   {
    "duration": 3,
    "start_time": "2022-02-23T16:12:38.196Z"
   },
   {
    "duration": 759,
    "start_time": "2022-02-23T16:13:13.178Z"
   },
   {
    "duration": 12,
    "start_time": "2022-02-23T16:14:21.344Z"
   },
   {
    "duration": 12,
    "start_time": "2022-02-23T16:14:43.617Z"
   },
   {
    "duration": 1105,
    "start_time": "2022-02-23T16:16:49.795Z"
   },
   {
    "duration": -33,
    "start_time": "2022-02-23T16:18:02.634Z"
   },
   {
    "duration": 716,
    "start_time": "2022-02-23T16:18:07.118Z"
   },
   {
    "duration": 7062,
    "start_time": "2022-02-23T16:18:20.319Z"
   },
   {
    "duration": 1035,
    "start_time": "2022-02-23T16:18:53.294Z"
   },
   {
    "duration": 792,
    "start_time": "2022-02-23T16:19:11.409Z"
   },
   {
    "duration": 466,
    "start_time": "2022-02-23T16:19:24.480Z"
   },
   {
    "duration": 743,
    "start_time": "2022-02-23T16:19:43.432Z"
   },
   {
    "duration": 281,
    "start_time": "2022-02-23T16:21:13.162Z"
   },
   {
    "duration": 985,
    "start_time": "2022-02-23T16:22:06.583Z"
   },
   {
    "duration": 277,
    "start_time": "2022-02-23T16:27:05.915Z"
   },
   {
    "duration": 719,
    "start_time": "2022-02-23T16:27:14.743Z"
   },
   {
    "duration": 799,
    "start_time": "2022-02-23T16:27:34.322Z"
   },
   {
    "duration": 750,
    "start_time": "2022-02-23T16:28:11.413Z"
   },
   {
    "duration": 7,
    "start_time": "2022-02-23T16:53:26.866Z"
   },
   {
    "duration": 6,
    "start_time": "2022-02-23T16:53:49.099Z"
   },
   {
    "duration": 33,
    "start_time": "2022-02-23T16:55:30.051Z"
   },
   {
    "duration": 19,
    "start_time": "2022-02-23T17:01:04.158Z"
   },
   {
    "duration": 333,
    "start_time": "2022-02-23T17:01:37.064Z"
   },
   {
    "duration": 305,
    "start_time": "2022-02-23T17:01:50.494Z"
   },
   {
    "duration": 360,
    "start_time": "2022-02-23T17:02:18.341Z"
   },
   {
    "duration": 364,
    "start_time": "2022-02-23T17:03:05.129Z"
   },
   {
    "duration": 531,
    "start_time": "2022-02-23T17:03:22.042Z"
   },
   {
    "duration": 367,
    "start_time": "2022-02-23T17:06:19.447Z"
   },
   {
    "duration": 7333,
    "start_time": "2022-02-23T17:07:57.239Z"
   },
   {
    "duration": 324,
    "start_time": "2022-02-23T17:08:17.235Z"
   },
   {
    "duration": 351,
    "start_time": "2022-02-23T17:09:37.581Z"
   },
   {
    "duration": 290,
    "start_time": "2022-02-23T17:10:20.058Z"
   },
   {
    "duration": 272,
    "start_time": "2022-02-23T17:12:11.369Z"
   },
   {
    "duration": 12,
    "start_time": "2022-02-23T17:13:54.532Z"
   },
   {
    "duration": 31,
    "start_time": "2022-02-23T17:16:26.108Z"
   },
   {
    "duration": 39,
    "start_time": "2022-02-23T17:16:44.235Z"
   },
   {
    "duration": 348,
    "start_time": "2022-02-23T17:17:43.484Z"
   },
   {
    "duration": 39,
    "start_time": "2022-02-23T17:18:07.233Z"
   },
   {
    "duration": 294,
    "start_time": "2022-02-23T17:18:34.857Z"
   },
   {
    "duration": 39,
    "start_time": "2022-02-23T17:18:52.660Z"
   },
   {
    "duration": 38,
    "start_time": "2022-02-23T17:20:01.044Z"
   },
   {
    "duration": 306,
    "start_time": "2022-02-23T17:20:25.185Z"
   },
   {
    "duration": 37,
    "start_time": "2022-02-23T17:20:33.933Z"
   },
   {
    "duration": 773,
    "start_time": "2022-02-24T12:24:26.453Z"
   },
   {
    "duration": 12,
    "start_time": "2022-02-24T12:24:27.228Z"
   },
   {
    "duration": 35,
    "start_time": "2022-02-24T12:24:27.242Z"
   },
   {
    "duration": 51,
    "start_time": "2022-02-24T12:24:27.279Z"
   },
   {
    "duration": 21,
    "start_time": "2022-02-24T12:24:27.332Z"
   },
   {
    "duration": 29,
    "start_time": "2022-02-24T12:24:27.355Z"
   },
   {
    "duration": 540,
    "start_time": "2022-02-24T12:24:27.386Z"
   },
   {
    "duration": 23,
    "start_time": "2022-02-24T12:24:27.929Z"
   },
   {
    "duration": 324,
    "start_time": "2022-02-24T12:24:27.954Z"
   },
   {
    "duration": 279,
    "start_time": "2022-02-24T12:24:28.280Z"
   },
   {
    "duration": 291,
    "start_time": "2022-02-24T12:24:28.561Z"
   },
   {
    "duration": 275,
    "start_time": "2022-02-24T12:24:28.854Z"
   },
   {
    "duration": 376,
    "start_time": "2022-02-24T12:24:29.131Z"
   },
   {
    "duration": 17,
    "start_time": "2022-02-24T12:24:29.508Z"
   },
   {
    "duration": 8,
    "start_time": "2022-02-24T12:24:29.527Z"
   },
   {
    "duration": 167,
    "start_time": "2022-02-24T12:24:29.537Z"
   },
   {
    "duration": 620,
    "start_time": "2022-02-24T12:24:29.705Z"
   },
   {
    "duration": 8,
    "start_time": "2022-02-24T12:24:30.327Z"
   },
   {
    "duration": 556,
    "start_time": "2022-02-24T12:24:30.337Z"
   },
   {
    "duration": 623,
    "start_time": "2022-02-24T12:24:30.895Z"
   },
   {
    "duration": 181,
    "start_time": "2022-02-24T12:24:31.520Z"
   },
   {
    "duration": 507,
    "start_time": "2022-02-24T12:24:31.703Z"
   },
   {
    "duration": 187,
    "start_time": "2022-02-24T12:24:32.213Z"
   },
   {
    "duration": 216,
    "start_time": "2022-02-24T12:24:32.402Z"
   },
   {
    "duration": 200,
    "start_time": "2022-02-24T12:24:32.620Z"
   },
   {
    "duration": 27,
    "start_time": "2022-02-24T12:24:32.822Z"
   },
   {
    "duration": 26,
    "start_time": "2022-02-24T12:25:06.799Z"
   },
   {
    "duration": 285,
    "start_time": "2022-02-24T12:26:24.275Z"
   },
   {
    "duration": 234,
    "start_time": "2022-02-24T12:26:44.125Z"
   },
   {
    "duration": 6072,
    "start_time": "2022-02-24T12:36:41.996Z"
   },
   {
    "duration": 5954,
    "start_time": "2022-02-24T12:37:25.796Z"
   },
   {
    "duration": 26,
    "start_time": "2022-02-24T12:37:46.260Z"
   },
   {
    "duration": 260,
    "start_time": "2022-02-24T12:38:30.487Z"
   },
   {
    "duration": 224,
    "start_time": "2022-02-24T12:38:39.328Z"
   },
   {
    "duration": 280,
    "start_time": "2022-02-24T12:39:20.499Z"
   },
   {
    "duration": 235,
    "start_time": "2022-02-24T12:41:41.336Z"
   },
   {
    "duration": 1122,
    "start_time": "2022-02-25T15:40:29.189Z"
   },
   {
    "duration": 28,
    "start_time": "2022-02-25T15:40:30.315Z"
   },
   {
    "duration": 51,
    "start_time": "2022-02-25T15:40:30.347Z"
   },
   {
    "duration": 85,
    "start_time": "2022-02-25T15:40:30.401Z"
   },
   {
    "duration": 64,
    "start_time": "2022-02-25T15:40:30.489Z"
   },
   {
    "duration": 313,
    "start_time": "2022-02-25T15:40:30.556Z"
   },
   {
    "duration": 845,
    "start_time": "2022-02-25T15:40:30.872Z"
   },
   {
    "duration": 42,
    "start_time": "2022-02-25T15:40:31.721Z"
   },
   {
    "duration": 677,
    "start_time": "2022-02-25T15:40:31.766Z"
   },
   {
    "duration": 484,
    "start_time": "2022-02-25T15:40:32.446Z"
   },
   {
    "duration": 513,
    "start_time": "2022-02-25T15:40:32.933Z"
   },
   {
    "duration": 472,
    "start_time": "2022-02-25T15:40:33.449Z"
   },
   {
    "duration": 705,
    "start_time": "2022-02-25T15:40:33.924Z"
   },
   {
    "duration": 15,
    "start_time": "2022-02-25T15:40:34.632Z"
   },
   {
    "duration": 12,
    "start_time": "2022-02-25T15:40:34.650Z"
   },
   {
    "duration": 269,
    "start_time": "2022-02-25T15:40:34.665Z"
   },
   {
    "duration": 1422,
    "start_time": "2022-02-25T15:40:34.936Z"
   },
   {
    "duration": 18,
    "start_time": "2022-02-25T15:40:36.360Z"
   },
   {
    "duration": 1182,
    "start_time": "2022-02-25T15:40:36.387Z"
   },
   {
    "duration": 824,
    "start_time": "2022-02-25T15:40:37.572Z"
   },
   {
    "duration": 289,
    "start_time": "2022-02-25T15:40:38.399Z"
   },
   {
    "duration": 751,
    "start_time": "2022-02-25T15:40:38.690Z"
   },
   {
    "duration": 399,
    "start_time": "2022-02-25T15:40:39.445Z"
   },
   {
    "duration": 450,
    "start_time": "2022-02-25T15:40:39.848Z"
   },
   {
    "duration": 316,
    "start_time": "2022-02-25T15:40:40.301Z"
   },
   {
    "duration": 463,
    "start_time": "2022-02-25T15:40:40.619Z"
   },
   {
    "duration": 40,
    "start_time": "2022-02-25T15:44:02.479Z"
   },
   {
    "duration": 662,
    "start_time": "2022-02-25T15:44:42.491Z"
   },
   {
    "duration": 396,
    "start_time": "2022-02-25T15:55:57.488Z"
   },
   {
    "duration": 42,
    "start_time": "2022-02-25T16:12:17.209Z"
   },
   {
    "duration": 37,
    "start_time": "2022-02-25T16:12:49.522Z"
   },
   {
    "duration": 40,
    "start_time": "2022-02-25T16:13:11.936Z"
   },
   {
    "duration": 37,
    "start_time": "2022-02-25T16:14:10.273Z"
   },
   {
    "duration": 123,
    "start_time": "2022-02-25T16:14:45.234Z"
   },
   {
    "duration": 38,
    "start_time": "2022-02-25T16:14:49.887Z"
   },
   {
    "duration": 38,
    "start_time": "2022-02-25T16:16:23.136Z"
   },
   {
    "duration": 43,
    "start_time": "2022-02-25T16:18:55.842Z"
   },
   {
    "duration": 39,
    "start_time": "2022-02-25T16:19:37.769Z"
   },
   {
    "duration": 35,
    "start_time": "2022-02-25T16:22:27.894Z"
   },
   {
    "duration": 312,
    "start_time": "2022-02-25T16:33:34.908Z"
   },
   {
    "duration": 799,
    "start_time": "2022-02-25T16:33:48.983Z"
   },
   {
    "duration": 12,
    "start_time": "2022-02-25T16:33:49.784Z"
   },
   {
    "duration": 35,
    "start_time": "2022-02-25T16:33:49.798Z"
   },
   {
    "duration": 44,
    "start_time": "2022-02-25T16:33:49.834Z"
   },
   {
    "duration": 20,
    "start_time": "2022-02-25T16:33:49.879Z"
   },
   {
    "duration": 32,
    "start_time": "2022-02-25T16:33:49.901Z"
   },
   {
    "duration": 555,
    "start_time": "2022-02-25T16:33:49.935Z"
   },
   {
    "duration": 23,
    "start_time": "2022-02-25T16:33:50.492Z"
   },
   {
    "duration": 333,
    "start_time": "2022-02-25T16:33:50.517Z"
   },
   {
    "duration": 326,
    "start_time": "2022-02-25T16:33:50.852Z"
   },
   {
    "duration": 330,
    "start_time": "2022-02-25T16:33:51.180Z"
   },
   {
    "duration": 323,
    "start_time": "2022-02-25T16:33:51.512Z"
   },
   {
    "duration": 415,
    "start_time": "2022-02-25T16:33:51.837Z"
   },
   {
    "duration": 22,
    "start_time": "2022-02-25T16:33:52.253Z"
   },
   {
    "duration": 9,
    "start_time": "2022-02-25T16:33:52.277Z"
   },
   {
    "duration": 181,
    "start_time": "2022-02-25T16:33:52.288Z"
   },
   {
    "duration": 706,
    "start_time": "2022-02-25T16:33:52.471Z"
   },
   {
    "duration": 7,
    "start_time": "2022-02-25T16:33:53.179Z"
   },
   {
    "duration": 580,
    "start_time": "2022-02-25T16:33:53.189Z"
   },
   {
    "duration": 623,
    "start_time": "2022-02-25T16:33:53.771Z"
   },
   {
    "duration": 197,
    "start_time": "2022-02-25T16:33:54.396Z"
   },
   {
    "duration": 569,
    "start_time": "2022-02-25T16:33:54.595Z"
   },
   {
    "duration": 218,
    "start_time": "2022-02-25T16:33:55.168Z"
   },
   {
    "duration": 253,
    "start_time": "2022-02-25T16:33:55.388Z"
   },
   {
    "duration": 219,
    "start_time": "2022-02-25T16:33:55.642Z"
   },
   {
    "duration": 26,
    "start_time": "2022-02-25T16:33:55.863Z"
   },
   {
    "duration": 43,
    "start_time": "2022-02-25T16:33:55.891Z"
   },
   {
    "duration": 12,
    "start_time": "2022-02-25T16:35:54.541Z"
   },
   {
    "duration": 11,
    "start_time": "2022-02-25T16:36:20.432Z"
   },
   {
    "duration": 11,
    "start_time": "2022-02-25T16:36:38.013Z"
   },
   {
    "duration": 12,
    "start_time": "2022-02-25T16:36:59.003Z"
   },
   {
    "duration": 13,
    "start_time": "2022-02-25T16:37:13.330Z"
   },
   {
    "duration": 295,
    "start_time": "2022-02-25T16:37:33.508Z"
   },
   {
    "duration": 10,
    "start_time": "2022-02-25T16:37:41.225Z"
   },
   {
    "duration": 9,
    "start_time": "2022-02-25T16:37:48.766Z"
   },
   {
    "duration": 11,
    "start_time": "2022-02-25T16:38:12.153Z"
   },
   {
    "duration": 49,
    "start_time": "2022-02-25T16:39:33.365Z"
   },
   {
    "duration": 29,
    "start_time": "2022-02-25T16:40:36.250Z"
   },
   {
    "duration": 36,
    "start_time": "2022-02-25T16:41:37.578Z"
   },
   {
    "duration": 49,
    "start_time": "2022-02-25T16:43:34.483Z"
   },
   {
    "duration": 50,
    "start_time": "2022-02-25T16:52:20.877Z"
   },
   {
    "duration": 48,
    "start_time": "2022-02-25T16:53:15.989Z"
   },
   {
    "duration": 46,
    "start_time": "2022-02-25T16:53:38.281Z"
   },
   {
    "duration": 51,
    "start_time": "2022-02-25T16:54:49.127Z"
   },
   {
    "duration": 80,
    "start_time": "2022-02-25T16:55:17.126Z"
   },
   {
    "duration": 49,
    "start_time": "2022-02-25T16:56:11.301Z"
   },
   {
    "duration": 31,
    "start_time": "2022-02-25T16:56:42.510Z"
   },
   {
    "duration": 230,
    "start_time": "2022-02-25T16:57:41.151Z"
   },
   {
    "duration": 15,
    "start_time": "2022-02-25T16:58:45.494Z"
   },
   {
    "duration": 226,
    "start_time": "2022-02-25T17:00:59.362Z"
   },
   {
    "duration": 132,
    "start_time": "2022-02-25T17:02:00.947Z"
   },
   {
    "duration": 35,
    "start_time": "2022-02-25T17:03:44.517Z"
   },
   {
    "duration": 32,
    "start_time": "2022-02-25T17:03:52.724Z"
   },
   {
    "duration": 69,
    "start_time": "2022-02-25T17:03:59.236Z"
   },
   {
    "duration": 25,
    "start_time": "2022-02-25T17:04:23.482Z"
   },
   {
    "duration": 781,
    "start_time": "2022-02-25T17:04:32.488Z"
   },
   {
    "duration": 12,
    "start_time": "2022-02-25T17:04:33.271Z"
   },
   {
    "duration": 36,
    "start_time": "2022-02-25T17:04:33.286Z"
   },
   {
    "duration": 61,
    "start_time": "2022-02-25T17:04:33.324Z"
   },
   {
    "duration": 21,
    "start_time": "2022-02-25T17:04:33.387Z"
   },
   {
    "duration": 33,
    "start_time": "2022-02-25T17:04:33.409Z"
   },
   {
    "duration": 567,
    "start_time": "2022-02-25T17:04:33.444Z"
   },
   {
    "duration": 26,
    "start_time": "2022-02-25T17:04:34.015Z"
   },
   {
    "duration": 372,
    "start_time": "2022-02-25T17:04:34.043Z"
   },
   {
    "duration": 325,
    "start_time": "2022-02-25T17:04:34.416Z"
   },
   {
    "duration": 354,
    "start_time": "2022-02-25T17:04:34.742Z"
   },
   {
    "duration": 324,
    "start_time": "2022-02-25T17:04:35.097Z"
   },
   {
    "duration": 446,
    "start_time": "2022-02-25T17:04:35.423Z"
   },
   {
    "duration": 13,
    "start_time": "2022-02-25T17:04:35.871Z"
   },
   {
    "duration": 9,
    "start_time": "2022-02-25T17:04:35.885Z"
   },
   {
    "duration": 204,
    "start_time": "2022-02-25T17:04:35.896Z"
   },
   {
    "duration": 722,
    "start_time": "2022-02-25T17:04:36.102Z"
   },
   {
    "duration": 6,
    "start_time": "2022-02-25T17:04:36.826Z"
   },
   {
    "duration": 556,
    "start_time": "2022-02-25T17:04:36.834Z"
   },
   {
    "duration": 631,
    "start_time": "2022-02-25T17:04:37.392Z"
   },
   {
    "duration": 210,
    "start_time": "2022-02-25T17:04:38.025Z"
   },
   {
    "duration": 534,
    "start_time": "2022-02-25T17:04:38.237Z"
   },
   {
    "duration": 216,
    "start_time": "2022-02-25T17:04:38.774Z"
   },
   {
    "duration": 265,
    "start_time": "2022-02-25T17:04:38.992Z"
   },
   {
    "duration": 247,
    "start_time": "2022-02-25T17:04:39.259Z"
   },
   {
    "duration": 25,
    "start_time": "2022-02-25T17:04:39.508Z"
   },
   {
    "duration": 162,
    "start_time": "2022-02-25T17:04:39.535Z"
   },
   {
    "duration": 66,
    "start_time": "2022-02-25T17:05:48.043Z"
   },
   {
    "duration": 372,
    "start_time": "2022-02-25T17:18:37.907Z"
   },
   {
    "duration": 290,
    "start_time": "2022-02-25T17:18:41.850Z"
   },
   {
    "duration": 41,
    "start_time": "2022-02-25T17:26:50.914Z"
   },
   {
    "duration": 251,
    "start_time": "2022-02-25T17:27:22.942Z"
   },
   {
    "duration": 37,
    "start_time": "2022-02-25T17:27:57.291Z"
   },
   {
    "duration": 68,
    "start_time": "2022-02-25T17:28:31.137Z"
   },
   {
    "duration": 70,
    "start_time": "2022-02-25T17:31:48.326Z"
   },
   {
    "duration": 83,
    "start_time": "2022-02-25T17:32:18.130Z"
   },
   {
    "duration": 73,
    "start_time": "2022-02-25T17:32:28.357Z"
   },
   {
    "duration": 82,
    "start_time": "2022-02-25T17:32:34.810Z"
   },
   {
    "duration": 71,
    "start_time": "2022-02-25T17:32:49.215Z"
   },
   {
    "duration": 314,
    "start_time": "2022-02-25T17:32:59.222Z"
   },
   {
    "duration": 239,
    "start_time": "2022-02-25T17:33:23.258Z"
   },
   {
    "duration": 233,
    "start_time": "2022-02-25T17:33:52.000Z"
   },
   {
    "duration": 64,
    "start_time": "2022-02-25T17:34:46.337Z"
   },
   {
    "duration": 260,
    "start_time": "2022-02-25T17:36:46.345Z"
   },
   {
    "duration": 233,
    "start_time": "2022-02-25T17:37:25.730Z"
   },
   {
    "duration": 68,
    "start_time": "2022-02-25T17:37:31.681Z"
   },
   {
    "duration": 30,
    "start_time": "2022-02-25T17:40:05.397Z"
   },
   {
    "duration": 67,
    "start_time": "2022-02-25T17:40:24.042Z"
   },
   {
    "duration": 69,
    "start_time": "2022-02-25T17:40:34.772Z"
   },
   {
    "duration": 704,
    "start_time": "2022-02-28T13:09:11.293Z"
   },
   {
    "duration": 11,
    "start_time": "2022-02-28T13:09:11.999Z"
   },
   {
    "duration": 33,
    "start_time": "2022-02-28T13:09:12.012Z"
   },
   {
    "duration": 48,
    "start_time": "2022-02-28T13:09:12.047Z"
   },
   {
    "duration": 20,
    "start_time": "2022-02-28T13:09:12.097Z"
   },
   {
    "duration": 55,
    "start_time": "2022-02-28T13:09:12.118Z"
   },
   {
    "duration": 512,
    "start_time": "2022-02-28T13:09:12.175Z"
   },
   {
    "duration": 22,
    "start_time": "2022-02-28T13:09:12.690Z"
   },
   {
    "duration": 301,
    "start_time": "2022-02-28T13:09:12.715Z"
   },
   {
    "duration": 253,
    "start_time": "2022-02-28T13:09:13.018Z"
   },
   {
    "duration": 272,
    "start_time": "2022-02-28T13:09:13.272Z"
   },
   {
    "duration": 263,
    "start_time": "2022-02-28T13:09:13.546Z"
   },
   {
    "duration": 338,
    "start_time": "2022-02-28T13:09:13.811Z"
   },
   {
    "duration": 16,
    "start_time": "2022-02-28T13:09:14.151Z"
   },
   {
    "duration": 8,
    "start_time": "2022-02-28T13:09:14.169Z"
   },
   {
    "duration": 158,
    "start_time": "2022-02-28T13:09:14.179Z"
   },
   {
    "duration": 577,
    "start_time": "2022-02-28T13:09:14.339Z"
   },
   {
    "duration": 6,
    "start_time": "2022-02-28T13:09:14.917Z"
   },
   {
    "duration": 518,
    "start_time": "2022-02-28T13:09:14.925Z"
   },
   {
    "duration": 596,
    "start_time": "2022-02-28T13:09:15.445Z"
   },
   {
    "duration": 179,
    "start_time": "2022-02-28T13:09:16.043Z"
   },
   {
    "duration": 498,
    "start_time": "2022-02-28T13:09:16.223Z"
   },
   {
    "duration": 185,
    "start_time": "2022-02-28T13:09:16.724Z"
   },
   {
    "duration": 227,
    "start_time": "2022-02-28T13:09:16.911Z"
   },
   {
    "duration": 193,
    "start_time": "2022-02-28T13:09:17.140Z"
   },
   {
    "duration": 32,
    "start_time": "2022-02-28T13:09:17.335Z"
   },
   {
    "duration": 331,
    "start_time": "2022-02-28T13:09:17.368Z"
   },
   {
    "duration": 68,
    "start_time": "2022-02-28T13:09:33.870Z"
   },
   {
    "duration": 66,
    "start_time": "2022-02-28T13:09:46.474Z"
   },
   {
    "duration": 205,
    "start_time": "2022-02-28T13:10:02.553Z"
   },
   {
    "duration": 84,
    "start_time": "2022-02-28T13:11:00.230Z"
   },
   {
    "duration": 4,
    "start_time": "2022-02-28T13:11:26.201Z"
   },
   {
    "duration": 223,
    "start_time": "2022-02-28T13:12:36.877Z"
   },
   {
    "duration": 62,
    "start_time": "2022-02-28T13:12:49.801Z"
   },
   {
    "duration": 61,
    "start_time": "2022-02-28T13:14:06.797Z"
   },
   {
    "duration": 64,
    "start_time": "2022-02-28T13:14:15.568Z"
   },
   {
    "duration": 61,
    "start_time": "2022-02-28T13:14:37.230Z"
   },
   {
    "duration": 214,
    "start_time": "2022-02-28T13:15:00.813Z"
   },
   {
    "duration": 62,
    "start_time": "2022-02-28T13:15:17.445Z"
   },
   {
    "duration": 61,
    "start_time": "2022-02-28T13:16:54.625Z"
   },
   {
    "duration": 477,
    "start_time": "2022-02-28T13:18:45.221Z"
   },
   {
    "duration": 725,
    "start_time": "2022-02-28T13:22:14.906Z"
   },
   {
    "duration": 11,
    "start_time": "2022-02-28T13:22:15.633Z"
   },
   {
    "duration": 41,
    "start_time": "2022-02-28T13:22:15.646Z"
   },
   {
    "duration": 33,
    "start_time": "2022-02-28T13:22:15.689Z"
   },
   {
    "duration": 18,
    "start_time": "2022-02-28T13:22:15.724Z"
   },
   {
    "duration": 47,
    "start_time": "2022-02-28T13:22:15.743Z"
   },
   {
    "duration": 527,
    "start_time": "2022-02-28T13:22:15.792Z"
   },
   {
    "duration": 22,
    "start_time": "2022-02-28T13:22:16.322Z"
   },
   {
    "duration": 313,
    "start_time": "2022-02-28T13:22:16.346Z"
   },
   {
    "duration": 269,
    "start_time": "2022-02-28T13:22:16.662Z"
   },
   {
    "duration": 297,
    "start_time": "2022-02-28T13:22:16.934Z"
   },
   {
    "duration": 268,
    "start_time": "2022-02-28T13:22:17.233Z"
   },
   {
    "duration": 353,
    "start_time": "2022-02-28T13:22:17.503Z"
   },
   {
    "duration": 14,
    "start_time": "2022-02-28T13:22:17.858Z"
   },
   {
    "duration": 8,
    "start_time": "2022-02-28T13:22:17.873Z"
   },
   {
    "duration": 161,
    "start_time": "2022-02-28T13:22:17.883Z"
   },
   {
    "duration": 584,
    "start_time": "2022-02-28T13:22:18.046Z"
   },
   {
    "duration": 6,
    "start_time": "2022-02-28T13:22:18.632Z"
   },
   {
    "duration": 526,
    "start_time": "2022-02-28T13:22:18.640Z"
   },
   {
    "duration": 596,
    "start_time": "2022-02-28T13:22:19.169Z"
   },
   {
    "duration": 178,
    "start_time": "2022-02-28T13:22:19.766Z"
   },
   {
    "duration": 519,
    "start_time": "2022-02-28T13:22:19.946Z"
   },
   {
    "duration": 197,
    "start_time": "2022-02-28T13:22:20.468Z"
   },
   {
    "duration": 229,
    "start_time": "2022-02-28T13:22:20.667Z"
   },
   {
    "duration": 202,
    "start_time": "2022-02-28T13:22:20.898Z"
   },
   {
    "duration": 25,
    "start_time": "2022-02-28T13:22:21.101Z"
   },
   {
    "duration": 553,
    "start_time": "2022-02-28T13:22:21.128Z"
   },
   {
    "duration": 774,
    "start_time": "2022-02-28T13:34:08.745Z"
   },
   {
    "duration": 11,
    "start_time": "2022-02-28T13:34:09.521Z"
   },
   {
    "duration": 47,
    "start_time": "2022-02-28T13:34:09.535Z"
   },
   {
    "duration": 36,
    "start_time": "2022-02-28T13:34:09.584Z"
   },
   {
    "duration": 43,
    "start_time": "2022-02-28T13:34:09.622Z"
   },
   {
    "duration": 46,
    "start_time": "2022-02-28T13:34:09.667Z"
   },
   {
    "duration": 855,
    "start_time": "2022-02-28T13:34:09.716Z"
   },
   {
    "duration": 34,
    "start_time": "2022-02-28T13:34:10.574Z"
   },
   {
    "duration": 472,
    "start_time": "2022-02-28T13:34:10.610Z"
   },
   {
    "duration": 298,
    "start_time": "2022-02-28T13:34:11.084Z"
   },
   {
    "duration": 298,
    "start_time": "2022-02-28T13:34:11.384Z"
   },
   {
    "duration": 286,
    "start_time": "2022-02-28T13:34:11.684Z"
   },
   {
    "duration": 410,
    "start_time": "2022-02-28T13:34:11.972Z"
   },
   {
    "duration": 11,
    "start_time": "2022-02-28T13:34:12.384Z"
   },
   {
    "duration": 8,
    "start_time": "2022-02-28T13:34:12.397Z"
   },
   {
    "duration": 169,
    "start_time": "2022-02-28T13:34:12.407Z"
   },
   {
    "duration": 601,
    "start_time": "2022-02-28T13:34:12.578Z"
   },
   {
    "duration": 8,
    "start_time": "2022-02-28T13:34:13.181Z"
   },
   {
    "duration": 559,
    "start_time": "2022-02-28T13:34:13.191Z"
   },
   {
    "duration": 898,
    "start_time": "2022-02-28T13:34:13.753Z"
   },
   {
    "duration": 249,
    "start_time": "2022-02-28T13:34:14.654Z"
   },
   {
    "duration": 565,
    "start_time": "2022-02-28T13:34:14.904Z"
   },
   {
    "duration": 202,
    "start_time": "2022-02-28T13:34:15.473Z"
   },
   {
    "duration": 233,
    "start_time": "2022-02-28T13:34:15.677Z"
   },
   {
    "duration": 222,
    "start_time": "2022-02-28T13:34:15.912Z"
   },
   {
    "duration": 32,
    "start_time": "2022-02-28T13:34:16.136Z"
   },
   {
    "duration": 577,
    "start_time": "2022-02-28T13:34:16.170Z"
   },
   {
    "duration": 444,
    "start_time": "2022-02-28T13:34:16.749Z"
   },
   {
    "duration": 230,
    "start_time": "2022-02-28T13:35:22.417Z"
   },
   {
    "duration": 26,
    "start_time": "2022-02-28T13:36:01.856Z"
   },
   {
    "duration": 8,
    "start_time": "2022-02-28T13:37:30.451Z"
   },
   {
    "duration": 24,
    "start_time": "2022-02-28T13:37:53.794Z"
   },
   {
    "duration": 8,
    "start_time": "2022-02-28T13:38:00.502Z"
   },
   {
    "duration": 6,
    "start_time": "2022-02-28T13:38:34.538Z"
   },
   {
    "duration": 18,
    "start_time": "2022-02-28T13:39:42.594Z"
   },
   {
    "duration": 359,
    "start_time": "2022-02-28T13:39:50.770Z"
   },
   {
    "duration": 165,
    "start_time": "2022-02-28T13:40:38.786Z"
   },
   {
    "duration": 57,
    "start_time": "2022-02-28T13:42:04.864Z"
   },
   {
    "duration": 6,
    "start_time": "2022-02-28T13:42:12.443Z"
   },
   {
    "duration": 26,
    "start_time": "2022-02-28T13:42:38.191Z"
   },
   {
    "duration": 5,
    "start_time": "2022-02-28T13:43:09.534Z"
   },
   {
    "duration": 486,
    "start_time": "2022-02-28T13:45:37.199Z"
   },
   {
    "duration": 139,
    "start_time": "2022-02-28T13:45:42.003Z"
   },
   {
    "duration": 6,
    "start_time": "2022-02-28T13:45:58.106Z"
   },
   {
    "duration": 460,
    "start_time": "2022-02-28T13:47:23.412Z"
   },
   {
    "duration": 475,
    "start_time": "2022-02-28T13:47:50.846Z"
   },
   {
    "duration": 482,
    "start_time": "2022-02-28T13:48:44.913Z"
   },
   {
    "duration": 53,
    "start_time": "2022-02-28T13:49:03.684Z"
   },
   {
    "duration": 155,
    "start_time": "2022-02-28T13:49:17.531Z"
   },
   {
    "duration": 161,
    "start_time": "2022-02-28T13:49:27.284Z"
   },
   {
    "duration": 493,
    "start_time": "2022-02-28T13:50:42.489Z"
   },
   {
    "duration": 57,
    "start_time": "2022-02-28T13:51:27.308Z"
   },
   {
    "duration": 560,
    "start_time": "2022-02-28T13:51:32.171Z"
   },
   {
    "duration": 904,
    "start_time": "2022-02-28T13:53:42.229Z"
   },
   {
    "duration": 380,
    "start_time": "2022-02-28T13:55:18.290Z"
   },
   {
    "duration": 807,
    "start_time": "2022-02-28T13:55:40.977Z"
   },
   {
    "duration": 255,
    "start_time": "2022-02-28T14:00:02.683Z"
   },
   {
    "duration": 5238,
    "start_time": "2022-02-28T14:02:23.037Z"
   },
   {
    "duration": 270,
    "start_time": "2022-02-28T14:13:34.971Z"
   },
   {
    "duration": 270,
    "start_time": "2022-02-28T14:17:09.234Z"
   },
   {
    "duration": 370,
    "start_time": "2022-02-28T14:18:47.171Z"
   },
   {
    "duration": 660,
    "start_time": "2022-02-28T14:18:59.320Z"
   },
   {
    "duration": 2,
    "start_time": "2022-02-28T14:27:49.275Z"
   },
   {
    "duration": 35,
    "start_time": "2022-02-28T15:05:13.036Z"
   },
   {
    "duration": 548,
    "start_time": "2022-02-28T15:07:51.892Z"
   },
   {
    "duration": 7,
    "start_time": "2022-02-28T15:12:07.785Z"
   },
   {
    "duration": 36,
    "start_time": "2022-02-28T15:12:21.132Z"
   },
   {
    "duration": 352,
    "start_time": "2022-02-28T15:12:29.838Z"
   },
   {
    "duration": 35,
    "start_time": "2022-02-28T15:13:30.575Z"
   },
   {
    "duration": 346,
    "start_time": "2022-02-28T15:13:34.945Z"
   },
   {
    "duration": 357,
    "start_time": "2022-02-28T15:14:24.247Z"
   },
   {
    "duration": 37,
    "start_time": "2022-02-28T15:16:16.146Z"
   },
   {
    "duration": 334,
    "start_time": "2022-02-28T15:16:20.375Z"
   },
   {
    "duration": 368,
    "start_time": "2022-02-28T15:16:30.927Z"
   },
   {
    "duration": 163,
    "start_time": "2022-02-28T15:18:19.914Z"
   },
   {
    "duration": 179,
    "start_time": "2022-02-28T15:19:19.166Z"
   },
   {
    "duration": 195,
    "start_time": "2022-02-28T15:19:56.871Z"
   },
   {
    "duration": 185,
    "start_time": "2022-02-28T15:20:37.574Z"
   },
   {
    "duration": 174,
    "start_time": "2022-02-28T17:12:52.053Z"
   },
   {
    "duration": 514,
    "start_time": "2022-02-28T17:41:15.502Z"
   },
   {
    "duration": 40,
    "start_time": "2022-02-28T17:44:50.860Z"
   },
   {
    "duration": 643,
    "start_time": "2022-02-28T17:45:06.677Z"
   },
   {
    "duration": 487,
    "start_time": "2022-02-28T17:45:14.847Z"
   },
   {
    "duration": 542,
    "start_time": "2022-02-28T17:45:26.106Z"
   },
   {
    "duration": 500,
    "start_time": "2022-02-28T17:45:42.077Z"
   },
   {
    "duration": 538,
    "start_time": "2022-02-28T17:46:00.201Z"
   },
   {
    "duration": 22,
    "start_time": "2022-02-28T17:46:17.350Z"
   },
   {
    "duration": 32,
    "start_time": "2022-02-28T17:46:22.774Z"
   },
   {
    "duration": 35,
    "start_time": "2022-02-28T17:46:46.443Z"
   },
   {
    "duration": 312,
    "start_time": "2022-02-28T17:47:03.960Z"
   },
   {
    "duration": 311,
    "start_time": "2022-02-28T17:47:13.075Z"
   },
   {
    "duration": 514,
    "start_time": "2022-02-28T17:47:28.598Z"
   },
   {
    "duration": 529,
    "start_time": "2022-02-28T17:47:44.904Z"
   },
   {
    "duration": 537,
    "start_time": "2022-02-28T17:49:15.499Z"
   },
   {
    "duration": 55,
    "start_time": "2022-02-28T22:55:15.911Z"
   },
   {
    "duration": 180,
    "start_time": "2022-02-28T22:56:20.674Z"
   },
   {
    "duration": 939,
    "start_time": "2022-02-28T22:56:30.645Z"
   },
   {
    "duration": 12,
    "start_time": "2022-02-28T22:56:31.586Z"
   },
   {
    "duration": 49,
    "start_time": "2022-02-28T22:56:31.600Z"
   },
   {
    "duration": 38,
    "start_time": "2022-02-28T22:56:31.651Z"
   },
   {
    "duration": 19,
    "start_time": "2022-02-28T22:56:31.691Z"
   },
   {
    "duration": 29,
    "start_time": "2022-02-28T22:56:31.712Z"
   },
   {
    "duration": 517,
    "start_time": "2022-02-28T22:56:31.763Z"
   },
   {
    "duration": 24,
    "start_time": "2022-02-28T22:56:32.284Z"
   },
   {
    "duration": 323,
    "start_time": "2022-02-28T22:56:32.311Z"
   },
   {
    "duration": 277,
    "start_time": "2022-02-28T22:56:32.636Z"
   },
   {
    "duration": 287,
    "start_time": "2022-02-28T22:56:32.916Z"
   },
   {
    "duration": 290,
    "start_time": "2022-02-28T22:56:33.206Z"
   },
   {
    "duration": 359,
    "start_time": "2022-02-28T22:56:33.498Z"
   },
   {
    "duration": 13,
    "start_time": "2022-02-28T22:56:33.863Z"
   },
   {
    "duration": 10,
    "start_time": "2022-02-28T22:56:33.877Z"
   },
   {
    "duration": 168,
    "start_time": "2022-02-28T22:56:33.889Z"
   },
   {
    "duration": 578,
    "start_time": "2022-02-28T22:56:34.063Z"
   },
   {
    "duration": 7,
    "start_time": "2022-02-28T22:56:34.644Z"
   },
   {
    "duration": 530,
    "start_time": "2022-02-28T22:56:34.663Z"
   },
   {
    "duration": 628,
    "start_time": "2022-02-28T22:56:35.196Z"
   },
   {
    "duration": 176,
    "start_time": "2022-02-28T22:56:35.827Z"
   },
   {
    "duration": 542,
    "start_time": "2022-02-28T22:56:36.006Z"
   },
   {
    "duration": 524,
    "start_time": "2022-02-28T22:56:36.551Z"
   },
   {
    "duration": 189,
    "start_time": "2022-02-28T22:56:37.077Z"
   },
   {
    "duration": 221,
    "start_time": "2022-02-28T22:56:37.268Z"
   },
   {
    "duration": 198,
    "start_time": "2022-02-28T22:56:37.490Z"
   },
   {
    "duration": 25,
    "start_time": "2022-02-28T22:56:37.690Z"
   },
   {
    "duration": 273,
    "start_time": "2022-02-28T22:56:37.716Z"
   },
   {
    "duration": 642,
    "start_time": "2022-02-28T22:56:37.991Z"
   },
   {
    "duration": 49,
    "start_time": "2022-02-28T22:56:38.635Z"
   },
   {
    "duration": 340,
    "start_time": "2022-02-28T22:56:38.686Z"
   },
   {
    "duration": 361,
    "start_time": "2022-02-28T22:56:39.028Z"
   },
   {
    "duration": 276,
    "start_time": "2022-02-28T22:56:39.390Z"
   },
   {
    "duration": 196,
    "start_time": "2022-02-28T22:56:39.667Z"
   },
   {
    "duration": 220,
    "start_time": "2022-02-28T22:56:39.864Z"
   },
   {
    "duration": 207,
    "start_time": "2022-02-28T22:56:40.086Z"
   },
   {
    "duration": 160,
    "start_time": "2022-02-28T23:04:48.172Z"
   },
   {
    "duration": 420,
    "start_time": "2022-02-28T23:07:44.851Z"
   },
   {
    "duration": 435,
    "start_time": "2022-02-28T23:08:15.246Z"
   },
   {
    "duration": 458,
    "start_time": "2022-02-28T23:08:44.100Z"
   },
   {
    "duration": 462,
    "start_time": "2022-02-28T23:09:38.730Z"
   },
   {
    "duration": 231,
    "start_time": "2022-02-28T23:14:08.410Z"
   },
   {
    "duration": 28,
    "start_time": "2022-02-28T23:14:11.750Z"
   },
   {
    "duration": 251,
    "start_time": "2022-02-28T23:14:29.724Z"
   },
   {
    "duration": 42,
    "start_time": "2022-02-28T23:16:11.802Z"
   },
   {
    "duration": 27,
    "start_time": "2022-02-28T23:16:19.787Z"
   },
   {
    "duration": 27,
    "start_time": "2022-02-28T23:16:37.214Z"
   },
   {
    "duration": 256,
    "start_time": "2022-02-28T23:16:39.773Z"
   },
   {
    "duration": 252,
    "start_time": "2022-02-28T23:19:23.107Z"
   },
   {
    "duration": 689,
    "start_time": "2022-02-28T23:20:52.955Z"
   },
   {
    "duration": 258,
    "start_time": "2022-02-28T23:22:59.030Z"
   },
   {
    "duration": 281,
    "start_time": "2022-02-28T23:25:59.859Z"
   },
   {
    "duration": 355,
    "start_time": "2022-02-28T23:29:54.551Z"
   },
   {
    "duration": 584,
    "start_time": "2022-02-28T23:33:22.566Z"
   },
   {
    "duration": 506,
    "start_time": "2022-02-28T23:33:58.894Z"
   },
   {
    "duration": 482,
    "start_time": "2022-02-28T23:34:33.374Z"
   },
   {
    "duration": 507,
    "start_time": "2022-02-28T23:36:57.682Z"
   },
   {
    "duration": 656,
    "start_time": "2022-02-28T23:37:23.270Z"
   },
   {
    "duration": 466,
    "start_time": "2022-02-28T23:37:33.246Z"
   },
   {
    "duration": 510,
    "start_time": "2022-02-28T23:37:53.996Z"
   },
   {
    "duration": 870,
    "start_time": "2022-02-28T23:38:04.866Z"
   },
   {
    "duration": 11,
    "start_time": "2022-02-28T23:38:05.738Z"
   },
   {
    "duration": 41,
    "start_time": "2022-02-28T23:38:05.751Z"
   },
   {
    "duration": 34,
    "start_time": "2022-02-28T23:38:05.795Z"
   },
   {
    "duration": 37,
    "start_time": "2022-02-28T23:38:05.831Z"
   },
   {
    "duration": 32,
    "start_time": "2022-02-28T23:38:05.870Z"
   },
   {
    "duration": 512,
    "start_time": "2022-02-28T23:38:05.904Z"
   },
   {
    "duration": 22,
    "start_time": "2022-02-28T23:38:06.418Z"
   },
   {
    "duration": 302,
    "start_time": "2022-02-28T23:38:06.442Z"
   },
   {
    "duration": 580,
    "start_time": "2022-02-28T23:38:06.746Z"
   },
   {
    "duration": 277,
    "start_time": "2022-02-28T23:38:07.328Z"
   },
   {
    "duration": 258,
    "start_time": "2022-02-28T23:38:07.607Z"
   },
   {
    "duration": 339,
    "start_time": "2022-02-28T23:38:07.867Z"
   },
   {
    "duration": 13,
    "start_time": "2022-02-28T23:38:08.208Z"
   },
   {
    "duration": 9,
    "start_time": "2022-02-28T23:38:08.223Z"
   },
   {
    "duration": 166,
    "start_time": "2022-02-28T23:38:08.234Z"
   },
   {
    "duration": 671,
    "start_time": "2022-02-28T23:38:08.402Z"
   },
   {
    "duration": 7,
    "start_time": "2022-02-28T23:38:09.076Z"
   },
   {
    "duration": 546,
    "start_time": "2022-02-28T23:38:09.085Z"
   },
   {
    "duration": 506,
    "start_time": "2022-02-28T23:38:09.632Z"
   },
   {
    "duration": 171,
    "start_time": "2022-02-28T23:38:10.139Z"
   },
   {
    "duration": 520,
    "start_time": "2022-02-28T23:38:10.312Z"
   },
   {
    "duration": 497,
    "start_time": "2022-02-28T23:38:10.836Z"
   },
   {
    "duration": 178,
    "start_time": "2022-02-28T23:38:11.335Z"
   },
   {
    "duration": 214,
    "start_time": "2022-02-28T23:38:11.515Z"
   },
   {
    "duration": 191,
    "start_time": "2022-02-28T23:38:11.731Z"
   },
   {
    "duration": 24,
    "start_time": "2022-02-28T23:38:11.924Z"
   },
   {
    "duration": 343,
    "start_time": "2022-02-28T23:38:11.950Z"
   },
   {
    "duration": 462,
    "start_time": "2022-02-28T23:38:12.295Z"
   },
   {
    "duration": 27,
    "start_time": "2022-02-28T23:38:12.762Z"
   },
   {
    "duration": 249,
    "start_time": "2022-02-28T23:38:12.791Z"
   },
   {
    "duration": 254,
    "start_time": "2022-02-28T23:38:13.042Z"
   },
   {
    "duration": 260,
    "start_time": "2022-02-28T23:38:13.298Z"
   },
   {
    "duration": 268,
    "start_time": "2022-02-28T23:38:13.559Z"
   },
   {
    "duration": 350,
    "start_time": "2022-02-28T23:38:13.828Z"
   },
   {
    "duration": 317,
    "start_time": "2022-02-28T23:38:14.180Z"
   },
   {
    "duration": 175,
    "start_time": "2022-02-28T23:38:14.499Z"
   },
   {
    "duration": 187,
    "start_time": "2022-02-28T23:38:14.676Z"
   },
   {
    "duration": 214,
    "start_time": "2022-02-28T23:38:14.864Z"
   },
   {
    "duration": 212,
    "start_time": "2022-02-28T23:38:15.080Z"
   },
   {
    "duration": 792,
    "start_time": "2022-02-28T23:39:07.610Z"
   },
   {
    "duration": 11,
    "start_time": "2022-02-28T23:39:08.404Z"
   },
   {
    "duration": 47,
    "start_time": "2022-02-28T23:39:08.418Z"
   },
   {
    "duration": 34,
    "start_time": "2022-02-28T23:39:08.467Z"
   },
   {
    "duration": 18,
    "start_time": "2022-02-28T23:39:08.503Z"
   },
   {
    "duration": 50,
    "start_time": "2022-02-28T23:39:08.523Z"
   },
   {
    "duration": 519,
    "start_time": "2022-02-28T23:39:08.574Z"
   },
   {
    "duration": 21,
    "start_time": "2022-02-28T23:39:09.095Z"
   },
   {
    "duration": 324,
    "start_time": "2022-02-28T23:39:09.118Z"
   },
   {
    "duration": 585,
    "start_time": "2022-02-28T23:39:09.444Z"
   },
   {
    "duration": 274,
    "start_time": "2022-02-28T23:39:10.031Z"
   },
   {
    "duration": 260,
    "start_time": "2022-02-28T23:39:10.306Z"
   },
   {
    "duration": 344,
    "start_time": "2022-02-28T23:39:10.568Z"
   },
   {
    "duration": 13,
    "start_time": "2022-02-28T23:39:10.915Z"
   },
   {
    "duration": 9,
    "start_time": "2022-02-28T23:39:10.930Z"
   },
   {
    "duration": 164,
    "start_time": "2022-02-28T23:39:10.941Z"
   },
   {
    "duration": 635,
    "start_time": "2022-02-28T23:39:11.108Z"
   },
   {
    "duration": 7,
    "start_time": "2022-02-28T23:39:11.745Z"
   },
   {
    "duration": 516,
    "start_time": "2022-02-28T23:39:11.764Z"
   },
   {
    "duration": 546,
    "start_time": "2022-02-28T23:39:12.281Z"
   },
   {
    "duration": 174,
    "start_time": "2022-02-28T23:39:12.829Z"
   },
   {
    "duration": 518,
    "start_time": "2022-02-28T23:39:13.005Z"
   },
   {
    "duration": 612,
    "start_time": "2022-02-28T23:39:13.526Z"
   },
   {
    "duration": 178,
    "start_time": "2022-02-28T23:39:14.140Z"
   },
   {
    "duration": 209,
    "start_time": "2022-02-28T23:39:14.320Z"
   },
   {
    "duration": 188,
    "start_time": "2022-02-28T23:39:14.531Z"
   },
   {
    "duration": 25,
    "start_time": "2022-02-28T23:39:14.721Z"
   },
   {
    "duration": 367,
    "start_time": "2022-02-28T23:39:14.748Z"
   },
   {
    "duration": 449,
    "start_time": "2022-02-28T23:39:15.117Z"
   },
   {
    "duration": 26,
    "start_time": "2022-02-28T23:39:15.568Z"
   },
   {
    "duration": 262,
    "start_time": "2022-02-28T23:39:15.596Z"
   },
   {
    "duration": 366,
    "start_time": "2022-02-28T23:39:15.863Z"
   },
   {
    "duration": 257,
    "start_time": "2022-02-28T23:39:16.231Z"
   },
   {
    "duration": 261,
    "start_time": "2022-02-28T23:39:16.490Z"
   },
   {
    "duration": 343,
    "start_time": "2022-02-28T23:39:16.753Z"
   },
   {
    "duration": 326,
    "start_time": "2022-02-28T23:39:17.097Z"
   },
   {
    "duration": 176,
    "start_time": "2022-02-28T23:39:17.425Z"
   },
   {
    "duration": 189,
    "start_time": "2022-02-28T23:39:17.603Z"
   },
   {
    "duration": 215,
    "start_time": "2022-02-28T23:39:17.794Z"
   },
   {
    "duration": 189,
    "start_time": "2022-02-28T23:39:18.011Z"
   },
   {
    "duration": 1345,
    "start_time": "2022-03-11T15:29:59.737Z"
   },
   {
    "duration": 21,
    "start_time": "2022-03-11T15:30:01.084Z"
   },
   {
    "duration": 65,
    "start_time": "2022-03-11T15:30:01.109Z"
   },
   {
    "duration": 51,
    "start_time": "2022-03-11T15:30:01.176Z"
   },
   {
    "duration": 28,
    "start_time": "2022-03-11T15:30:01.230Z"
   },
   {
    "duration": 88,
    "start_time": "2022-03-11T15:30:01.261Z"
   },
   {
    "duration": 582,
    "start_time": "2022-03-11T15:30:01.351Z"
   },
   {
    "duration": 28,
    "start_time": "2022-03-11T15:30:01.936Z"
   },
   {
    "duration": 506,
    "start_time": "2022-03-11T15:30:01.967Z"
   },
   {
    "duration": 875,
    "start_time": "2022-03-11T15:30:02.476Z"
   },
   {
    "duration": 502,
    "start_time": "2022-03-11T15:30:03.353Z"
   },
   {
    "duration": 326,
    "start_time": "2022-03-11T15:30:03.857Z"
   },
   {
    "duration": 441,
    "start_time": "2022-03-11T15:30:04.186Z"
   },
   {
    "duration": 13,
    "start_time": "2022-03-11T15:30:04.629Z"
   },
   {
    "duration": 116,
    "start_time": "2022-03-11T15:30:04.644Z"
   },
   {
    "duration": 179,
    "start_time": "2022-03-11T15:30:04.762Z"
   },
   {
    "duration": 745,
    "start_time": "2022-03-11T15:30:04.943Z"
   },
   {
    "duration": 16,
    "start_time": "2022-03-11T15:30:05.690Z"
   },
   {
    "duration": 637,
    "start_time": "2022-03-11T15:30:05.708Z"
   },
   {
    "duration": 735,
    "start_time": "2022-03-11T15:30:06.347Z"
   },
   {
    "duration": 262,
    "start_time": "2022-03-11T15:30:07.085Z"
   },
   {
    "duration": 584,
    "start_time": "2022-03-11T15:30:07.349Z"
   },
   {
    "duration": 616,
    "start_time": "2022-03-11T15:30:07.938Z"
   },
   {
    "duration": 227,
    "start_time": "2022-03-11T15:30:08.556Z"
   },
   {
    "duration": 345,
    "start_time": "2022-03-11T15:30:08.785Z"
   },
   {
    "duration": 231,
    "start_time": "2022-03-11T15:30:09.132Z"
   },
   {
    "duration": 36,
    "start_time": "2022-03-11T15:30:09.366Z"
   },
   {
    "duration": 394,
    "start_time": "2022-03-11T15:30:09.404Z"
   },
   {
    "duration": 497,
    "start_time": "2022-03-11T15:30:09.799Z"
   },
   {
    "duration": 29,
    "start_time": "2022-03-11T15:30:10.301Z"
   },
   {
    "duration": 295,
    "start_time": "2022-03-11T15:30:10.332Z"
   },
   {
    "duration": 306,
    "start_time": "2022-03-11T15:30:10.630Z"
   },
   {
    "duration": 311,
    "start_time": "2022-03-11T15:30:10.938Z"
   },
   {
    "duration": 300,
    "start_time": "2022-03-11T15:30:11.251Z"
   },
   {
    "duration": 413,
    "start_time": "2022-03-11T15:30:11.553Z"
   },
   {
    "duration": 388,
    "start_time": "2022-03-11T15:30:11.969Z"
   },
   {
    "duration": 206,
    "start_time": "2022-03-11T15:30:12.358Z"
   },
   {
    "duration": 213,
    "start_time": "2022-03-11T15:30:12.566Z"
   },
   {
    "duration": 240,
    "start_time": "2022-03-11T15:30:12.781Z"
   },
   {
    "duration": 288,
    "start_time": "2022-03-11T15:30:13.023Z"
   },
   {
    "duration": 690,
    "start_time": "2022-03-11T15:30:30.445Z"
   },
   {
    "duration": 898,
    "start_time": "2022-03-11T15:35:05.356Z"
   },
   {
    "duration": 15,
    "start_time": "2022-03-11T15:35:06.257Z"
   },
   {
    "duration": 55,
    "start_time": "2022-03-11T15:35:06.275Z"
   },
   {
    "duration": 51,
    "start_time": "2022-03-11T15:35:06.333Z"
   },
   {
    "duration": 27,
    "start_time": "2022-03-11T15:35:06.386Z"
   },
   {
    "duration": 36,
    "start_time": "2022-03-11T15:35:06.415Z"
   },
   {
    "duration": 569,
    "start_time": "2022-03-11T15:35:06.453Z"
   },
   {
    "duration": 25,
    "start_time": "2022-03-11T15:35:07.025Z"
   },
   {
    "duration": 352,
    "start_time": "2022-03-11T15:35:07.052Z"
   },
   {
    "duration": 656,
    "start_time": "2022-03-11T15:35:07.406Z"
   },
   {
    "duration": 337,
    "start_time": "2022-03-11T15:35:08.065Z"
   },
   {
    "duration": 303,
    "start_time": "2022-03-11T15:35:08.405Z"
   },
   {
    "duration": 400,
    "start_time": "2022-03-11T15:35:08.710Z"
   },
   {
    "duration": 16,
    "start_time": "2022-03-11T15:35:09.113Z"
   },
   {
    "duration": 12,
    "start_time": "2022-03-11T15:35:09.132Z"
   },
   {
    "duration": 180,
    "start_time": "2022-03-11T15:35:09.147Z"
   },
   {
    "duration": 693,
    "start_time": "2022-03-11T15:35:09.329Z"
   },
   {
    "duration": 7,
    "start_time": "2022-03-11T15:35:10.025Z"
   },
   {
    "duration": 569,
    "start_time": "2022-03-11T15:35:10.034Z"
   },
   {
    "duration": 551,
    "start_time": "2022-03-11T15:35:10.605Z"
   },
   {
    "duration": 212,
    "start_time": "2022-03-11T15:35:11.159Z"
   },
   {
    "duration": 536,
    "start_time": "2022-03-11T15:35:11.373Z"
   },
   {
    "duration": 599,
    "start_time": "2022-03-11T15:35:11.913Z"
   },
   {
    "duration": 209,
    "start_time": "2022-03-11T15:35:12.514Z"
   },
   {
    "duration": 232,
    "start_time": "2022-03-11T15:35:12.726Z"
   },
   {
    "duration": 214,
    "start_time": "2022-03-11T15:35:12.961Z"
   },
   {
    "duration": 34,
    "start_time": "2022-03-11T15:35:13.177Z"
   },
   {
    "duration": 362,
    "start_time": "2022-03-11T15:35:13.213Z"
   },
   {
    "duration": 458,
    "start_time": "2022-03-11T15:35:13.577Z"
   },
   {
    "duration": 28,
    "start_time": "2022-03-11T15:35:14.036Z"
   },
   {
    "duration": 280,
    "start_time": "2022-03-11T15:35:14.066Z"
   },
   {
    "duration": 314,
    "start_time": "2022-03-11T15:35:14.348Z"
   },
   {
    "duration": 290,
    "start_time": "2022-03-11T15:35:14.664Z"
   },
   {
    "duration": 299,
    "start_time": "2022-03-11T15:35:14.956Z"
   },
   {
    "duration": 389,
    "start_time": "2022-03-11T15:35:15.257Z"
   },
   {
    "duration": 357,
    "start_time": "2022-03-11T15:35:15.649Z"
   },
   {
    "duration": 193,
    "start_time": "2022-03-11T15:35:16.008Z"
   },
   {
    "duration": 206,
    "start_time": "2022-03-11T15:35:16.203Z"
   },
   {
    "duration": 242,
    "start_time": "2022-03-11T15:35:16.411Z"
   },
   {
    "duration": 214,
    "start_time": "2022-03-11T15:35:16.655Z"
   },
   {
    "duration": 260,
    "start_time": "2022-03-11T15:38:10.822Z"
   },
   {
    "duration": 547,
    "start_time": "2022-03-11T15:38:44.157Z"
   },
   {
    "duration": 544,
    "start_time": "2022-03-11T15:38:53.267Z"
   },
   {
    "duration": 536,
    "start_time": "2022-03-11T15:39:24.356Z"
   },
   {
    "duration": 411,
    "start_time": "2022-03-11T15:55:06.340Z"
   },
   {
    "duration": 411,
    "start_time": "2022-03-11T15:55:25.216Z"
   },
   {
    "duration": 177,
    "start_time": "2022-03-11T15:56:01.899Z"
   },
   {
    "duration": 588,
    "start_time": "2022-03-11T16:35:47.098Z"
   },
   {
    "duration": 985,
    "start_time": "2022-03-11T16:36:02.846Z"
   },
   {
    "duration": 13,
    "start_time": "2022-03-11T16:36:03.833Z"
   },
   {
    "duration": 57,
    "start_time": "2022-03-11T16:36:03.848Z"
   },
   {
    "duration": 42,
    "start_time": "2022-03-11T16:36:03.908Z"
   },
   {
    "duration": 25,
    "start_time": "2022-03-11T16:36:03.952Z"
   },
   {
    "duration": 57,
    "start_time": "2022-03-11T16:36:03.979Z"
   },
   {
    "duration": 595,
    "start_time": "2022-03-11T16:36:04.038Z"
   },
   {
    "duration": 27,
    "start_time": "2022-03-11T16:36:04.636Z"
   },
   {
    "duration": 367,
    "start_time": "2022-03-11T16:36:04.665Z"
   },
   {
    "duration": 687,
    "start_time": "2022-03-11T16:36:05.034Z"
   },
   {
    "duration": 327,
    "start_time": "2022-03-11T16:36:05.724Z"
   },
   {
    "duration": 328,
    "start_time": "2022-03-11T16:36:06.053Z"
   },
   {
    "duration": 390,
    "start_time": "2022-03-11T16:36:06.383Z"
   },
   {
    "duration": 26,
    "start_time": "2022-03-11T16:36:06.776Z"
   },
   {
    "duration": 11,
    "start_time": "2022-03-11T16:36:06.804Z"
   },
   {
    "duration": 177,
    "start_time": "2022-03-11T16:36:06.817Z"
   },
   {
    "duration": 899,
    "start_time": "2022-03-11T16:36:07.002Z"
   },
   {
    "duration": 7,
    "start_time": "2022-03-11T16:36:07.903Z"
   },
   {
    "duration": 647,
    "start_time": "2022-03-11T16:36:07.913Z"
   },
   {
    "duration": 579,
    "start_time": "2022-03-11T16:36:08.562Z"
   },
   {
    "duration": 212,
    "start_time": "2022-03-11T16:36:09.143Z"
   },
   {
    "duration": 555,
    "start_time": "2022-03-11T16:36:09.358Z"
   },
   {
    "duration": 164,
    "start_time": "2022-03-11T16:36:09.918Z"
   },
   {
    "duration": 744,
    "start_time": "2022-03-11T16:36:10.085Z"
   },
   {
    "duration": 278,
    "start_time": "2022-03-11T16:36:10.832Z"
   },
   {
    "duration": 247,
    "start_time": "2022-03-11T16:36:11.113Z"
   },
   {
    "duration": 234,
    "start_time": "2022-03-11T16:36:11.362Z"
   },
   {
    "duration": 29,
    "start_time": "2022-03-11T16:36:11.598Z"
   },
   {
    "duration": 188,
    "start_time": "2022-03-11T16:36:11.629Z"
   },
   {
    "duration": 565,
    "start_time": "2022-03-11T16:36:11.819Z"
   },
   {
    "duration": 564,
    "start_time": "2022-03-11T16:36:12.386Z"
   },
   {
    "duration": 30,
    "start_time": "2022-03-11T16:36:12.952Z"
   },
   {
    "duration": 291,
    "start_time": "2022-03-11T16:36:12.984Z"
   },
   {
    "duration": 310,
    "start_time": "2022-03-11T16:36:13.277Z"
   },
   {
    "duration": 342,
    "start_time": "2022-03-11T16:36:13.589Z"
   },
   {
    "duration": 419,
    "start_time": "2022-03-11T16:36:13.934Z"
   },
   {
    "duration": 497,
    "start_time": "2022-03-11T16:36:14.355Z"
   },
   {
    "duration": 421,
    "start_time": "2022-03-11T16:36:14.855Z"
   },
   {
    "duration": 192,
    "start_time": "2022-03-11T16:36:15.278Z"
   },
   {
    "duration": 403,
    "start_time": "2022-03-11T16:36:15.472Z"
   },
   {
    "duration": 366,
    "start_time": "2022-03-11T16:36:15.878Z"
   },
   {
    "duration": 327,
    "start_time": "2022-03-11T16:36:16.247Z"
   }
  ],
  "kernelspec": {
   "display_name": "Python 3 (ipykernel)",
   "language": "python",
   "name": "python3"
  },
  "language_info": {
   "codemirror_mode": {
    "name": "ipython",
    "version": 3
   },
   "file_extension": ".py",
   "mimetype": "text/x-python",
   "name": "python",
   "nbconvert_exporter": "python",
   "pygments_lexer": "ipython3",
   "version": "3.9.12"
  },
  "toc": {
   "base_numbering": 1,
   "nav_menu": {},
   "number_sections": true,
   "sideBar": true,
   "skip_h1_title": true,
   "title_cell": "Содержание",
   "title_sidebar": "Contents",
   "toc_cell": true,
   "toc_position": {},
   "toc_section_display": true,
   "toc_window_display": false
  },
  "vscode": {
   "interpreter": {
    "hash": "aee8b7b246df8f9039afb4144a1f6fd8d2ca17a180786b69acc140d282b71a49"
   }
  }
 },
 "nbformat": 4,
 "nbformat_minor": 4
}
